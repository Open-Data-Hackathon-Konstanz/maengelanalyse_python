{
 "cells": [
  {
   "cell_type": "code",
   "execution_count": 2,
   "metadata": {
    "collapsed": true
   },
   "outputs": [],
   "source": [
    "import pandas as pd\n",
    "import numpy as np\n",
    "import datetime\n",
    "import matplotlib.pyplot as plt"
   ]
  },
  {
   "cell_type": "code",
   "execution_count": 3,
   "outputs": [
    {
     "data": {
      "text/plain": "     id                                        description  \\\n0  3470  alle Straßenlaternen um das Schnetztor defekt....   \n1  3475  Bei Nässe spiegelglatte Stelle. Ich bin am Don...   \n2  3476  Warnschild des Zebrastreifens zum x-ten mal um...   \n3  3495  Bei der Fussgängerampel direkt vor dem Taschen...   \n4  3583  Hallo,\\n\\nder Spielplatz an der Kreuzlingerstr...   \n\n                                            category  \\\n0               Beleuchtung > Straßenlaternen defekt   \n1                                Hinweise > Hinweise   \n2  Straßen, Fahrrad & Verkehr > Schilder unkenntlich   \n3          Straßen, Fahrrad & Verkehr > Ampel defekt   \n4  Öffentliche Orte/Ufer > Spielplätze schadhaft ...   \n\n                                        address  \\\n0       Obere Laube 66, 78462 Konstanz, Germany   \n1      Hussenstraße 24, 78462 Konstanz, Germany   \n2    Emmishofer Str. 7, 78462 Konstanz, Germany   \n3   Rosgartenstraße 31, 78462 Konstanz, Germany   \n4  Kreuzlinger Str. 26, 78462 Konstanz, Germany   \n\n                             group_       lon        lat  year  month  \\\n0             Stadtwerke Konstanz\\n  9.170475  47.658698  2020      6   \n1  Technische Betriebe Konstanz\\n\\n  9.172454  47.659835  2020      6   \n2  Technische Betriebe Konstanz\\n\\n  9.170046  47.656598  2020      6   \n3                        Tiefbauamt  9.174359  47.658116  2020      6   \n4  Technische Betriebe Konstanz\\n\\n  9.171569  47.657161  2020      6   \n\n     reported    approved     checked  approved_in  district  \\\n0  2020/06/06  2020/06/06  2020/06/06          1.2       NaN   \n1  2020/06/07  2020/06/07  2020/06/07          0.4  Paradies   \n2  2020/06/08  2020/06/08  2020/06/08          0.6       NaN   \n3  2020/06/13  2020/06/13  2020/06/13          1.6       NaN   \n4  2020/06/29  2020/06/29  2020/06/29          0.1       NaN   \n\n           stadtteil  \n0  Konstanz-Altstadt  \n1  Konstanz-Altstadt  \n2  Konstanz-Altstadt  \n3  Konstanz-Altstadt  \n4  Konstanz-Altstadt  ",
      "text/html": "<div>\n<style scoped>\n    .dataframe tbody tr th:only-of-type {\n        vertical-align: middle;\n    }\n\n    .dataframe tbody tr th {\n        vertical-align: top;\n    }\n\n    .dataframe thead th {\n        text-align: right;\n    }\n</style>\n<table border=\"1\" class=\"dataframe\">\n  <thead>\n    <tr style=\"text-align: right;\">\n      <th></th>\n      <th>id</th>\n      <th>description</th>\n      <th>category</th>\n      <th>address</th>\n      <th>group_</th>\n      <th>lon</th>\n      <th>lat</th>\n      <th>year</th>\n      <th>month</th>\n      <th>reported</th>\n      <th>approved</th>\n      <th>checked</th>\n      <th>approved_in</th>\n      <th>district</th>\n      <th>stadtteil</th>\n    </tr>\n  </thead>\n  <tbody>\n    <tr>\n      <th>0</th>\n      <td>3470</td>\n      <td>alle Straßenlaternen um das Schnetztor defekt....</td>\n      <td>Beleuchtung &gt; Straßenlaternen defekt</td>\n      <td>Obere Laube 66, 78462 Konstanz, Germany</td>\n      <td>Stadtwerke Konstanz\\n</td>\n      <td>9.170475</td>\n      <td>47.658698</td>\n      <td>2020</td>\n      <td>6</td>\n      <td>2020/06/06</td>\n      <td>2020/06/06</td>\n      <td>2020/06/06</td>\n      <td>1.2</td>\n      <td>NaN</td>\n      <td>Konstanz-Altstadt</td>\n    </tr>\n    <tr>\n      <th>1</th>\n      <td>3475</td>\n      <td>Bei Nässe spiegelglatte Stelle. Ich bin am Don...</td>\n      <td>Hinweise &gt; Hinweise</td>\n      <td>Hussenstraße 24, 78462 Konstanz, Germany</td>\n      <td>Technische Betriebe Konstanz\\n\\n</td>\n      <td>9.172454</td>\n      <td>47.659835</td>\n      <td>2020</td>\n      <td>6</td>\n      <td>2020/06/07</td>\n      <td>2020/06/07</td>\n      <td>2020/06/07</td>\n      <td>0.4</td>\n      <td>Paradies</td>\n      <td>Konstanz-Altstadt</td>\n    </tr>\n    <tr>\n      <th>2</th>\n      <td>3476</td>\n      <td>Warnschild des Zebrastreifens zum x-ten mal um...</td>\n      <td>Straßen, Fahrrad &amp; Verkehr &gt; Schilder unkenntlich</td>\n      <td>Emmishofer Str. 7, 78462 Konstanz, Germany</td>\n      <td>Technische Betriebe Konstanz\\n\\n</td>\n      <td>9.170046</td>\n      <td>47.656598</td>\n      <td>2020</td>\n      <td>6</td>\n      <td>2020/06/08</td>\n      <td>2020/06/08</td>\n      <td>2020/06/08</td>\n      <td>0.6</td>\n      <td>NaN</td>\n      <td>Konstanz-Altstadt</td>\n    </tr>\n    <tr>\n      <th>3</th>\n      <td>3495</td>\n      <td>Bei der Fussgängerampel direkt vor dem Taschen...</td>\n      <td>Straßen, Fahrrad &amp; Verkehr &gt; Ampel defekt</td>\n      <td>Rosgartenstraße 31, 78462 Konstanz, Germany</td>\n      <td>Tiefbauamt</td>\n      <td>9.174359</td>\n      <td>47.658116</td>\n      <td>2020</td>\n      <td>6</td>\n      <td>2020/06/13</td>\n      <td>2020/06/13</td>\n      <td>2020/06/13</td>\n      <td>1.6</td>\n      <td>NaN</td>\n      <td>Konstanz-Altstadt</td>\n    </tr>\n    <tr>\n      <th>4</th>\n      <td>3583</td>\n      <td>Hallo,\\n\\nder Spielplatz an der Kreuzlingerstr...</td>\n      <td>Öffentliche Orte/Ufer &gt; Spielplätze schadhaft ...</td>\n      <td>Kreuzlinger Str. 26, 78462 Konstanz, Germany</td>\n      <td>Technische Betriebe Konstanz\\n\\n</td>\n      <td>9.171569</td>\n      <td>47.657161</td>\n      <td>2020</td>\n      <td>6</td>\n      <td>2020/06/29</td>\n      <td>2020/06/29</td>\n      <td>2020/06/29</td>\n      <td>0.1</td>\n      <td>NaN</td>\n      <td>Konstanz-Altstadt</td>\n    </tr>\n  </tbody>\n</table>\n</div>"
     },
     "execution_count": 3,
     "metadata": {},
     "output_type": "execute_result"
    }
   ],
   "source": [
    "df = pd.read_csv(\"../data/final.csv\")\n",
    "df.head()"
   ],
   "metadata": {
    "collapsed": false
   }
  },
  {
   "cell_type": "code",
   "execution_count": 4,
   "outputs": [
    {
     "data": {
      "text/plain": "Konstanz-Petershausen-West    698\nKonstanz-Altstadt             534\nKonstanz-Wollmatingen         327\nKonstanz-Petershausen-Ost     290\nKonstanz-Fürstenberg          274\nKonstanz-Allmannsdorf         271\nKonstanz-Industriegebiet      246\nKonstanz-Paradies             183\nKonstanz-Königsbau            147\nKonstanz-Staad                136\nKonstanz-Litzelstetten         96\nKonstanz-Egg                   90\nKonstanz-Dettingen             65\nKonstanz-Dingelsdorf           40\nKonstanz-Wallhausen            17\nName: stadtteil, dtype: int64"
     },
     "execution_count": 4,
     "metadata": {},
     "output_type": "execute_result"
    }
   ],
   "source": [
    "df.stadtteil.value_counts()"
   ],
   "metadata": {
    "collapsed": false
   }
  },
  {
   "cell_type": "code",
   "execution_count": null,
   "outputs": [],
   "source": [],
   "metadata": {
    "collapsed": false
   }
  }
 ],
 "metadata": {
  "kernelspec": {
   "display_name": "Python 3",
   "language": "python",
   "name": "python3"
  },
  "language_info": {
   "codemirror_mode": {
    "name": "ipython",
    "version": 2
   },
   "file_extension": ".py",
   "mimetype": "text/x-python",
   "name": "python",
   "nbconvert_exporter": "python",
   "pygments_lexer": "ipython2",
   "version": "2.7.6"
  }
 },
 "nbformat": 4,
 "nbformat_minor": 0
}
