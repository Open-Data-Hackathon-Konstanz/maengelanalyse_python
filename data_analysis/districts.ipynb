{
 "cells": [
  {
   "cell_type": "code",
   "execution_count": 21,
   "metadata": {
    "collapsed": true
   },
   "outputs": [],
   "source": [
    "import pandas as pd\n",
    "import numpy as np\n",
    "import datetime\n",
    "import matplotlib.pyplot as plt"
   ]
  },
  {
   "cell_type": "code",
   "execution_count": 22,
   "outputs": [],
   "source": [
    "df = pd.read_csv(\"../data/final.csv\")\n",
    "df.head()\n",
    "df_districts = pd.read_excel(\"../data/district_data.xlsx\")"
   ],
   "metadata": {
    "collapsed": false
   }
  },
  {
   "cell_type": "code",
   "execution_count": 23,
   "outputs": [
    {
     "data": {
      "text/plain": "Petershausen-West    698\nAltstadt             534\nWollmatingen         327\nPetershausen-Ost     290\nFürstenberg          274\nAllmannsdorf         271\nIndustriegebiet      246\nParadies             183\nKönigsbau            147\nStaad                136\nLitzelstetten         96\nEgg                   90\nDettingen             65\nDingelsdorf           40\nWallhausen            17\nName: district, dtype: int64"
     },
     "execution_count": 23,
     "metadata": {},
     "output_type": "execute_result"
    }
   ],
   "source": [
    "df.district.value_counts()"
   ],
   "metadata": {
    "collapsed": false
   }
  },
  {
   "cell_type": "code",
   "execution_count": 24,
   "outputs": [
    {
     "data": {
      "text/plain": "Straßen, Fahrrad & Verkehr    1272\nMüll/Sauberkeit                781\nBeleuchtung                    666\nHinweise                       600\nÖffentliche Orte/Ufer          263\nPflanzenwuchs                  209\nName: main_cat, dtype: int64"
     },
     "execution_count": 24,
     "metadata": {},
     "output_type": "execute_result"
    }
   ],
   "source": [
    "df.main_cat.value_counts()"
   ],
   "metadata": {
    "collapsed": false
   }
  },
  {
   "cell_type": "code",
   "execution_count": 36,
   "outputs": [
    {
     "data": {
      "text/plain": " Straßenlaternen defekt                         666\n Hinweise                                       600\n Illegaler Müll                                 371\n verschmutzte Straßen und Plätze                268\n Fahrrad gefunden                               242\n Schilder unkenntlich                           224\n Verkehrsbehindernder Heckenwuchs, Sträucher    209\n Radwege schadhaft                              161\n Abgemeldete Fahrzeuge                          153\n Straßenschäden                                 145\n Mülleimer überfüllt                            133\n Gullideckel/ Kanal verstopft                   130\n Fußwege schadhaft                              111\n Freizeitgelände beschädigt / verunreinigt      106\n Ampel defekt                                   100\n Spielplätze schadhaft / verunreinigt            86\n Seeufer verschmutzt                             34\n Öffentliche WCs defekt / verunreinigt           15\n Sportplätze beschädigt / verunreinigt           12\n Altglascontainer überfüllt                       9\n Schulgelände schadhaft / verunreinigt            7\n Parkscheinautomat defekt                         6\n Friedhof beschädigt / verunreinigt               3\nName: sub_cat, dtype: int64"
     },
     "execution_count": 36,
     "metadata": {},
     "output_type": "execute_result"
    }
   ],
   "source": [
    "sub_cat = df.sub_cat.value_counts( )\n",
    "sub_cat"
   ],
   "metadata": {
    "collapsed": false
   }
  },
  {
   "cell_type": "code",
   "execution_count": 35,
   "outputs": [
    {
     "data": {
      "text/plain": "    STT          Stadtteil  Einwohner  Staatsangehörigkeit deutsch  \\\n0    10           Altstadt      12116                        10329   \n1    20           Paradies       6113                         5341   \n2    30  Petershausen-West      16002                        12762   \n3    35   Petershausen-Ost       7273                         6388   \n4    40          Königsbau       6248                         5067   \n5    50       Allmannsdorf       5341                         4788   \n6    60              Staad       1793                         1637   \n7    70        Fürstenberg      12346                        10006   \n8    80       Wollmatingen       6784                         5774   \n9    90    Industriegebiet       1093                          673   \n10  100                Egg        763                          671   \n11  110      Litzelstetten       3831                         3440   \n12  120        Dingelsdorf       2094                         1896   \n13  130          Dettingen       3270                         2959   \n14  140         Wallhausen       1123                          987   \n\n    EU-Ausländer  sonstige Ausländer  Religion - katholisch  \\\n0            858                 929                   3998   \n1            336                 436                   2354   \n2           1539                1701                   5212   \n3            354                 531                   2464   \n4            562                 619                   2129   \n5            278                 275                   1895   \n6             84                  72                    640   \n7           1218                1122                   4246   \n8            531                 479                   2334   \n9            178                 242                    298   \n10            21                  71                    256   \n11           230                 161                   1446   \n12           112                  86                    885   \n13           177                 134                   1372   \n14            84                  52                    393   \n\n    Religion - evangelisch  Religion - sonstige  Zuzüge  ...  \\\n0                     2502                 5616    1398  ...   \n1                     1326                 2433     857  ...   \n2                     3082                 7708    1968  ...   \n3                     1683                 3126     661  ...   \n4                     1358                 2761    1077  ...   \n5                     1354                 2092     453  ...   \n6                      418                  735     115  ...   \n7                     2360                 5740    1242  ...   \n8                     1318                 3132     468  ...   \n9                      158                  637     186  ...   \n10                     191                  316      54  ...   \n11                     899                 1486     287  ...   \n12                     428                  781     169  ...   \n13                     699                 1199     211  ...   \n14                     267                  463      92  ...   \n\n    Drei_Plus_Personen_HH  Anteil_Fam_stand_ledig  \\\n0               15.185136               42.967976   \n1               13.582251               45.525928   \n2               16.415034               44.244469   \n3               18.341463               31.266328   \n4               19.709355               42.765685   \n5               19.732888               32.952631   \n6               18.800000               27.161182   \n7               17.333901               36.983638   \n8               26.755162               28.537736   \n9               24.285714               33.760293   \n10              31.884058               25.163827   \n11              20.845341               27.094753   \n12              24.904943               26.122254   \n13              25.951341               23.302752   \n14              17.784711               30.454141   \n\n    Anteil_Fam_stand_verheiratet  Anteil_Fam_stand_verwitwet  \\\n0                      30.397821                    4.762298   \n1                      29.445444                    6.347129   \n2                      30.308711                    4.143232   \n3                      38.649801                    8.758422   \n4                      30.793854                    3.969270   \n5                      40.198465                    5.785433   \n6                      44.729504                    6.748466   \n7                      35.347481                    5.726551   \n8                      39.047759                    5.070755   \n9                      34.766697                    4.117109   \n10                     47.051114                    2.621232   \n11                     45.418951                    6.108066   \n12                     47.134670                    5.014327   \n13                     47.798165                    5.932722   \n14                     42.831701                    6.055209   \n\n    Anteil_Fam_stand_geschieden  Anteil_Fam_stand_sonstige  Anteil_Kinder  \\\n0                      8.237042                   0.222846      13.412017   \n1                      7.639457                   0.032717      11.009324   \n2                      7.961505                   0.581177      12.760905   \n3                      7.548467                   0.206242      13.570741   \n4                      6.802177                   0.080026      15.588988   \n5                      7.152219                   0.037446      13.873806   \n6                      7.529281                   0.000000      13.831567   \n7                      8.205087                   0.072898      13.664345   \n8                      7.576651                   0.044222      19.722877   \n9                      8.691674                   4.117109      14.547118   \n10                     3.538663                   0.393185      21.231979   \n11                     7.700339                   0.130514      13.547377   \n12                     6.303725                   0.047755      15.377268   \n13                     6.055046                   0.122324      16.788991   \n14                     8.192342                   0.000000      12.466607   \n\n    Kinder  Anteil_Arbeitslose  Anteil_SV_Beschaeftigte  \n0     1625            1.989105                34.689667  \n1      673            1.128742                30.508752  \n2     2042            1.993501                36.539183  \n3      987            0.948714                27.842706  \n4      974            1.920615                28.697183  \n5      741            0.992324                30.499906  \n6      248            1.561629                39.654211  \n7     1687            1.992548                36.068362  \n8     1338            2.048939                36.512382  \n9      159            4.117109                38.975297  \n10     162            3.669725                93.184797  \n11     519            1.331245                32.498042  \n12     322            1.146132                34.574976  \n13     549            1.131498                33.211009  \n14     140            1.246661                34.728406  \n\n[15 rows x 78 columns]",
      "text/html": "<div>\n<style scoped>\n    .dataframe tbody tr th:only-of-type {\n        vertical-align: middle;\n    }\n\n    .dataframe tbody tr th {\n        vertical-align: top;\n    }\n\n    .dataframe thead th {\n        text-align: right;\n    }\n</style>\n<table border=\"1\" class=\"dataframe\">\n  <thead>\n    <tr style=\"text-align: right;\">\n      <th></th>\n      <th>STT</th>\n      <th>Stadtteil</th>\n      <th>Einwohner</th>\n      <th>Staatsangehörigkeit deutsch</th>\n      <th>EU-Ausländer</th>\n      <th>sonstige Ausländer</th>\n      <th>Religion - katholisch</th>\n      <th>Religion - evangelisch</th>\n      <th>Religion - sonstige</th>\n      <th>Zuzüge</th>\n      <th>...</th>\n      <th>Drei_Plus_Personen_HH</th>\n      <th>Anteil_Fam_stand_ledig</th>\n      <th>Anteil_Fam_stand_verheiratet</th>\n      <th>Anteil_Fam_stand_verwitwet</th>\n      <th>Anteil_Fam_stand_geschieden</th>\n      <th>Anteil_Fam_stand_sonstige</th>\n      <th>Anteil_Kinder</th>\n      <th>Kinder</th>\n      <th>Anteil_Arbeitslose</th>\n      <th>Anteil_SV_Beschaeftigte</th>\n    </tr>\n  </thead>\n  <tbody>\n    <tr>\n      <th>0</th>\n      <td>10</td>\n      <td>Altstadt</td>\n      <td>12116</td>\n      <td>10329</td>\n      <td>858</td>\n      <td>929</td>\n      <td>3998</td>\n      <td>2502</td>\n      <td>5616</td>\n      <td>1398</td>\n      <td>...</td>\n      <td>15.185136</td>\n      <td>42.967976</td>\n      <td>30.397821</td>\n      <td>4.762298</td>\n      <td>8.237042</td>\n      <td>0.222846</td>\n      <td>13.412017</td>\n      <td>1625</td>\n      <td>1.989105</td>\n      <td>34.689667</td>\n    </tr>\n    <tr>\n      <th>1</th>\n      <td>20</td>\n      <td>Paradies</td>\n      <td>6113</td>\n      <td>5341</td>\n      <td>336</td>\n      <td>436</td>\n      <td>2354</td>\n      <td>1326</td>\n      <td>2433</td>\n      <td>857</td>\n      <td>...</td>\n      <td>13.582251</td>\n      <td>45.525928</td>\n      <td>29.445444</td>\n      <td>6.347129</td>\n      <td>7.639457</td>\n      <td>0.032717</td>\n      <td>11.009324</td>\n      <td>673</td>\n      <td>1.128742</td>\n      <td>30.508752</td>\n    </tr>\n    <tr>\n      <th>2</th>\n      <td>30</td>\n      <td>Petershausen-West</td>\n      <td>16002</td>\n      <td>12762</td>\n      <td>1539</td>\n      <td>1701</td>\n      <td>5212</td>\n      <td>3082</td>\n      <td>7708</td>\n      <td>1968</td>\n      <td>...</td>\n      <td>16.415034</td>\n      <td>44.244469</td>\n      <td>30.308711</td>\n      <td>4.143232</td>\n      <td>7.961505</td>\n      <td>0.581177</td>\n      <td>12.760905</td>\n      <td>2042</td>\n      <td>1.993501</td>\n      <td>36.539183</td>\n    </tr>\n    <tr>\n      <th>3</th>\n      <td>35</td>\n      <td>Petershausen-Ost</td>\n      <td>7273</td>\n      <td>6388</td>\n      <td>354</td>\n      <td>531</td>\n      <td>2464</td>\n      <td>1683</td>\n      <td>3126</td>\n      <td>661</td>\n      <td>...</td>\n      <td>18.341463</td>\n      <td>31.266328</td>\n      <td>38.649801</td>\n      <td>8.758422</td>\n      <td>7.548467</td>\n      <td>0.206242</td>\n      <td>13.570741</td>\n      <td>987</td>\n      <td>0.948714</td>\n      <td>27.842706</td>\n    </tr>\n    <tr>\n      <th>4</th>\n      <td>40</td>\n      <td>Königsbau</td>\n      <td>6248</td>\n      <td>5067</td>\n      <td>562</td>\n      <td>619</td>\n      <td>2129</td>\n      <td>1358</td>\n      <td>2761</td>\n      <td>1077</td>\n      <td>...</td>\n      <td>19.709355</td>\n      <td>42.765685</td>\n      <td>30.793854</td>\n      <td>3.969270</td>\n      <td>6.802177</td>\n      <td>0.080026</td>\n      <td>15.588988</td>\n      <td>974</td>\n      <td>1.920615</td>\n      <td>28.697183</td>\n    </tr>\n    <tr>\n      <th>5</th>\n      <td>50</td>\n      <td>Allmannsdorf</td>\n      <td>5341</td>\n      <td>4788</td>\n      <td>278</td>\n      <td>275</td>\n      <td>1895</td>\n      <td>1354</td>\n      <td>2092</td>\n      <td>453</td>\n      <td>...</td>\n      <td>19.732888</td>\n      <td>32.952631</td>\n      <td>40.198465</td>\n      <td>5.785433</td>\n      <td>7.152219</td>\n      <td>0.037446</td>\n      <td>13.873806</td>\n      <td>741</td>\n      <td>0.992324</td>\n      <td>30.499906</td>\n    </tr>\n    <tr>\n      <th>6</th>\n      <td>60</td>\n      <td>Staad</td>\n      <td>1793</td>\n      <td>1637</td>\n      <td>84</td>\n      <td>72</td>\n      <td>640</td>\n      <td>418</td>\n      <td>735</td>\n      <td>115</td>\n      <td>...</td>\n      <td>18.800000</td>\n      <td>27.161182</td>\n      <td>44.729504</td>\n      <td>6.748466</td>\n      <td>7.529281</td>\n      <td>0.000000</td>\n      <td>13.831567</td>\n      <td>248</td>\n      <td>1.561629</td>\n      <td>39.654211</td>\n    </tr>\n    <tr>\n      <th>7</th>\n      <td>70</td>\n      <td>Fürstenberg</td>\n      <td>12346</td>\n      <td>10006</td>\n      <td>1218</td>\n      <td>1122</td>\n      <td>4246</td>\n      <td>2360</td>\n      <td>5740</td>\n      <td>1242</td>\n      <td>...</td>\n      <td>17.333901</td>\n      <td>36.983638</td>\n      <td>35.347481</td>\n      <td>5.726551</td>\n      <td>8.205087</td>\n      <td>0.072898</td>\n      <td>13.664345</td>\n      <td>1687</td>\n      <td>1.992548</td>\n      <td>36.068362</td>\n    </tr>\n    <tr>\n      <th>8</th>\n      <td>80</td>\n      <td>Wollmatingen</td>\n      <td>6784</td>\n      <td>5774</td>\n      <td>531</td>\n      <td>479</td>\n      <td>2334</td>\n      <td>1318</td>\n      <td>3132</td>\n      <td>468</td>\n      <td>...</td>\n      <td>26.755162</td>\n      <td>28.537736</td>\n      <td>39.047759</td>\n      <td>5.070755</td>\n      <td>7.576651</td>\n      <td>0.044222</td>\n      <td>19.722877</td>\n      <td>1338</td>\n      <td>2.048939</td>\n      <td>36.512382</td>\n    </tr>\n    <tr>\n      <th>9</th>\n      <td>90</td>\n      <td>Industriegebiet</td>\n      <td>1093</td>\n      <td>673</td>\n      <td>178</td>\n      <td>242</td>\n      <td>298</td>\n      <td>158</td>\n      <td>637</td>\n      <td>186</td>\n      <td>...</td>\n      <td>24.285714</td>\n      <td>33.760293</td>\n      <td>34.766697</td>\n      <td>4.117109</td>\n      <td>8.691674</td>\n      <td>4.117109</td>\n      <td>14.547118</td>\n      <td>159</td>\n      <td>4.117109</td>\n      <td>38.975297</td>\n    </tr>\n    <tr>\n      <th>10</th>\n      <td>100</td>\n      <td>Egg</td>\n      <td>763</td>\n      <td>671</td>\n      <td>21</td>\n      <td>71</td>\n      <td>256</td>\n      <td>191</td>\n      <td>316</td>\n      <td>54</td>\n      <td>...</td>\n      <td>31.884058</td>\n      <td>25.163827</td>\n      <td>47.051114</td>\n      <td>2.621232</td>\n      <td>3.538663</td>\n      <td>0.393185</td>\n      <td>21.231979</td>\n      <td>162</td>\n      <td>3.669725</td>\n      <td>93.184797</td>\n    </tr>\n    <tr>\n      <th>11</th>\n      <td>110</td>\n      <td>Litzelstetten</td>\n      <td>3831</td>\n      <td>3440</td>\n      <td>230</td>\n      <td>161</td>\n      <td>1446</td>\n      <td>899</td>\n      <td>1486</td>\n      <td>287</td>\n      <td>...</td>\n      <td>20.845341</td>\n      <td>27.094753</td>\n      <td>45.418951</td>\n      <td>6.108066</td>\n      <td>7.700339</td>\n      <td>0.130514</td>\n      <td>13.547377</td>\n      <td>519</td>\n      <td>1.331245</td>\n      <td>32.498042</td>\n    </tr>\n    <tr>\n      <th>12</th>\n      <td>120</td>\n      <td>Dingelsdorf</td>\n      <td>2094</td>\n      <td>1896</td>\n      <td>112</td>\n      <td>86</td>\n      <td>885</td>\n      <td>428</td>\n      <td>781</td>\n      <td>169</td>\n      <td>...</td>\n      <td>24.904943</td>\n      <td>26.122254</td>\n      <td>47.134670</td>\n      <td>5.014327</td>\n      <td>6.303725</td>\n      <td>0.047755</td>\n      <td>15.377268</td>\n      <td>322</td>\n      <td>1.146132</td>\n      <td>34.574976</td>\n    </tr>\n    <tr>\n      <th>13</th>\n      <td>130</td>\n      <td>Dettingen</td>\n      <td>3270</td>\n      <td>2959</td>\n      <td>177</td>\n      <td>134</td>\n      <td>1372</td>\n      <td>699</td>\n      <td>1199</td>\n      <td>211</td>\n      <td>...</td>\n      <td>25.951341</td>\n      <td>23.302752</td>\n      <td>47.798165</td>\n      <td>5.932722</td>\n      <td>6.055046</td>\n      <td>0.122324</td>\n      <td>16.788991</td>\n      <td>549</td>\n      <td>1.131498</td>\n      <td>33.211009</td>\n    </tr>\n    <tr>\n      <th>14</th>\n      <td>140</td>\n      <td>Wallhausen</td>\n      <td>1123</td>\n      <td>987</td>\n      <td>84</td>\n      <td>52</td>\n      <td>393</td>\n      <td>267</td>\n      <td>463</td>\n      <td>92</td>\n      <td>...</td>\n      <td>17.784711</td>\n      <td>30.454141</td>\n      <td>42.831701</td>\n      <td>6.055209</td>\n      <td>8.192342</td>\n      <td>0.000000</td>\n      <td>12.466607</td>\n      <td>140</td>\n      <td>1.246661</td>\n      <td>34.728406</td>\n    </tr>\n  </tbody>\n</table>\n<p>15 rows × 78 columns</p>\n</div>"
     },
     "execution_count": 35,
     "metadata": {},
     "output_type": "execute_result"
    }
   ],
   "source": [
    "df_districts"
   ],
   "metadata": {
    "collapsed": false
   }
  },
  {
   "cell_type": "code",
   "execution_count": 26,
   "outputs": [],
   "source": [],
   "metadata": {
    "collapsed": false
   }
  }
 ],
 "metadata": {
  "kernelspec": {
   "display_name": "Python 3",
   "language": "python",
   "name": "python3"
  },
  "language_info": {
   "codemirror_mode": {
    "name": "ipython",
    "version": 2
   },
   "file_extension": ".py",
   "mimetype": "text/x-python",
   "name": "python",
   "nbconvert_exporter": "python",
   "pygments_lexer": "ipython2",
   "version": "2.7.6"
  }
 },
 "nbformat": 4,
 "nbformat_minor": 0
}
