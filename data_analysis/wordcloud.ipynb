{
 "cells": [
  {
   "cell_type": "code",
   "execution_count": 202,
   "metadata": {
    "collapsed": true
   },
   "outputs": [],
   "source": [
    "import pandas as pd\n",
    "import numpy as np\n",
    "import datetime\n",
    "import matplotlib.pyplot as plt\n",
    "from wordcloud import WordCloud\n",
    "from nltk.corpus import stopwords\n",
    "from nltk.tokenize import word_tokenize\n",
    "import string\n",
    "from nltk.stem import  PorterStemmer\n",
    "from nltk.util import ngrams\n",
    "import re"
   ]
  },
  {
   "cell_type": "code",
   "execution_count": 203,
   "outputs": [
    {
     "data": {
      "text/plain": "     id                                        description  \\\n0  3470  alle Straßenlaternen um das Schnetztor defekt....   \n1  3475  Bei Nässe spiegelglatte Stelle. Ich bin am Don...   \n2  3476  Warnschild des Zebrastreifens zum x-ten mal um...   \n3  3495  Bei der Fussgängerampel direkt vor dem Taschen...   \n4  3583  Hallo,\\n\\nder Spielplatz an der Kreuzlingerstr...   \n\n                                        address  \\\n0       Obere Laube 66, 78462 Konstanz, Germany   \n1      Hussenstraße 24, 78462 Konstanz, Germany   \n2    Emmishofer Str. 7, 78462 Konstanz, Germany   \n3   Rosgartenstraße 31, 78462 Konstanz, Germany   \n4  Kreuzlinger Str. 26, 78462 Konstanz, Germany   \n\n                             group_       lon        lat  year  month  \\\n0             Stadtwerke Konstanz\\n  9.170475  47.658698  2020      6   \n1  Technische Betriebe Konstanz\\n\\n  9.172454  47.659835  2020      6   \n2  Technische Betriebe Konstanz\\n\\n  9.170046  47.656598  2020      6   \n3                        Tiefbauamt  9.174359  47.658116  2020      6   \n4  Technische Betriebe Konstanz\\n\\n  9.171569  47.657161  2020      6   \n\n              reported             approved              checked  approved_in  \\\n0  2020-06-06 23:48:00  2020-06-08 05:31:00  2020-06-08 05:31:00          1.2   \n1  2020-06-07 19:26:00  2020-06-08 05:33:00  2020-06-08 05:33:00          0.4   \n2  2020-06-08 17:08:00  2020-06-09 08:25:00  2020-06-09 08:25:00          0.6   \n3  2020-06-13 18:23:00  2020-06-15 07:50:00  2020-06-15 07:50:00          1.6   \n4  2020-06-29 11:46:00  2020-06-29 14:04:00  2020-06-29 14:04:00          0.1   \n\n   district                    main_cat                                sub_cat  \n0  Altstadt                 Beleuchtung                 Straßenlaternen defekt  \n1  Altstadt                    Hinweise                               Hinweise  \n2  Altstadt  Straßen, Fahrrad & Verkehr                   Schilder unkenntlich  \n3  Altstadt  Straßen, Fahrrad & Verkehr                           Ampel defekt  \n4  Altstadt       Öffentliche Orte/Ufer   Spielplätze schadhaft / verunreinigt  ",
      "text/html": "<div>\n<style scoped>\n    .dataframe tbody tr th:only-of-type {\n        vertical-align: middle;\n    }\n\n    .dataframe tbody tr th {\n        vertical-align: top;\n    }\n\n    .dataframe thead th {\n        text-align: right;\n    }\n</style>\n<table border=\"1\" class=\"dataframe\">\n  <thead>\n    <tr style=\"text-align: right;\">\n      <th></th>\n      <th>id</th>\n      <th>description</th>\n      <th>address</th>\n      <th>group_</th>\n      <th>lon</th>\n      <th>lat</th>\n      <th>year</th>\n      <th>month</th>\n      <th>reported</th>\n      <th>approved</th>\n      <th>checked</th>\n      <th>approved_in</th>\n      <th>district</th>\n      <th>main_cat</th>\n      <th>sub_cat</th>\n    </tr>\n  </thead>\n  <tbody>\n    <tr>\n      <th>0</th>\n      <td>3470</td>\n      <td>alle Straßenlaternen um das Schnetztor defekt....</td>\n      <td>Obere Laube 66, 78462 Konstanz, Germany</td>\n      <td>Stadtwerke Konstanz\\n</td>\n      <td>9.170475</td>\n      <td>47.658698</td>\n      <td>2020</td>\n      <td>6</td>\n      <td>2020-06-06 23:48:00</td>\n      <td>2020-06-08 05:31:00</td>\n      <td>2020-06-08 05:31:00</td>\n      <td>1.2</td>\n      <td>Altstadt</td>\n      <td>Beleuchtung</td>\n      <td>Straßenlaternen defekt</td>\n    </tr>\n    <tr>\n      <th>1</th>\n      <td>3475</td>\n      <td>Bei Nässe spiegelglatte Stelle. Ich bin am Don...</td>\n      <td>Hussenstraße 24, 78462 Konstanz, Germany</td>\n      <td>Technische Betriebe Konstanz\\n\\n</td>\n      <td>9.172454</td>\n      <td>47.659835</td>\n      <td>2020</td>\n      <td>6</td>\n      <td>2020-06-07 19:26:00</td>\n      <td>2020-06-08 05:33:00</td>\n      <td>2020-06-08 05:33:00</td>\n      <td>0.4</td>\n      <td>Altstadt</td>\n      <td>Hinweise</td>\n      <td>Hinweise</td>\n    </tr>\n    <tr>\n      <th>2</th>\n      <td>3476</td>\n      <td>Warnschild des Zebrastreifens zum x-ten mal um...</td>\n      <td>Emmishofer Str. 7, 78462 Konstanz, Germany</td>\n      <td>Technische Betriebe Konstanz\\n\\n</td>\n      <td>9.170046</td>\n      <td>47.656598</td>\n      <td>2020</td>\n      <td>6</td>\n      <td>2020-06-08 17:08:00</td>\n      <td>2020-06-09 08:25:00</td>\n      <td>2020-06-09 08:25:00</td>\n      <td>0.6</td>\n      <td>Altstadt</td>\n      <td>Straßen, Fahrrad &amp; Verkehr</td>\n      <td>Schilder unkenntlich</td>\n    </tr>\n    <tr>\n      <th>3</th>\n      <td>3495</td>\n      <td>Bei der Fussgängerampel direkt vor dem Taschen...</td>\n      <td>Rosgartenstraße 31, 78462 Konstanz, Germany</td>\n      <td>Tiefbauamt</td>\n      <td>9.174359</td>\n      <td>47.658116</td>\n      <td>2020</td>\n      <td>6</td>\n      <td>2020-06-13 18:23:00</td>\n      <td>2020-06-15 07:50:00</td>\n      <td>2020-06-15 07:50:00</td>\n      <td>1.6</td>\n      <td>Altstadt</td>\n      <td>Straßen, Fahrrad &amp; Verkehr</td>\n      <td>Ampel defekt</td>\n    </tr>\n    <tr>\n      <th>4</th>\n      <td>3583</td>\n      <td>Hallo,\\n\\nder Spielplatz an der Kreuzlingerstr...</td>\n      <td>Kreuzlinger Str. 26, 78462 Konstanz, Germany</td>\n      <td>Technische Betriebe Konstanz\\n\\n</td>\n      <td>9.171569</td>\n      <td>47.657161</td>\n      <td>2020</td>\n      <td>6</td>\n      <td>2020-06-29 11:46:00</td>\n      <td>2020-06-29 14:04:00</td>\n      <td>2020-06-29 14:04:00</td>\n      <td>0.1</td>\n      <td>Altstadt</td>\n      <td>Öffentliche Orte/Ufer</td>\n      <td>Spielplätze schadhaft / verunreinigt</td>\n    </tr>\n  </tbody>\n</table>\n</div>"
     },
     "execution_count": 203,
     "metadata": {},
     "output_type": "execute_result"
    }
   ],
   "source": [
    "df = pd.read_csv(\"../data/final.csv\")\n",
    "df.head()"
   ],
   "metadata": {
    "collapsed": false
   }
  },
  {
   "cell_type": "code",
   "execution_count": 203,
   "outputs": [],
   "source": [],
   "metadata": {
    "collapsed": false
   }
  },
  {
   "cell_type": "code",
   "execution_count": 204,
   "outputs": [
    {
     "data": {
      "text/plain": "'Warnschild des Zebrastreifens zum x-ten mal umgefahren vom Lieferanten des dortigen Geschäfts. Mindestens einmal im Monat wird dieses Schild umgefahren!\\n'"
     },
     "execution_count": 204,
     "metadata": {},
     "output_type": "execute_result"
    }
   ],
   "source": [
    "x = str(df.iloc[2,1])\n",
    "result = re.search(r\"[\\s\\S]*?(?=\\(Adress)\", x)[0]\n",
    "result"
   ],
   "metadata": {
    "collapsed": false
   }
  },
  {
   "cell_type": "code",
   "execution_count": 205,
   "outputs": [
    {
     "ename": "AttributeError",
     "evalue": "'str' object has no attribute 'iloc'",
     "output_type": "error",
     "traceback": [
      "\u001B[0;31m---------------------------------------------------------------------------\u001B[0m",
      "\u001B[0;31mAttributeError\u001B[0m                            Traceback (most recent call last)",
      "Cell \u001B[0;32mIn[205], line 1\u001B[0m\n\u001B[0;32m----> 1\u001B[0m \u001B[43mx\u001B[49m\u001B[38;5;241;43m.\u001B[39;49m\u001B[43miloc\u001B[49m[\u001B[38;5;241m0\u001B[39m,\u001B[38;5;241m0\u001B[39m]\n",
      "\u001B[0;31mAttributeError\u001B[0m: 'str' object has no attribute 'iloc'"
     ]
    }
   ],
   "source": [
    "x.iloc[0,0]\n"
   ],
   "metadata": {
    "collapsed": false
   }
  },
  {
   "cell_type": "code",
   "execution_count": null,
   "outputs": [],
   "source": [
    "def func(x):\n",
    "   temp = re.search(r\"[\\s\\S]*?(?=\\(Adress)\", x)\n",
    "   if temp is not None:\n",
    "       return temp[0]\n",
    "   else:\n",
    "       return x\n",
    "df[\"description\"] = df.description.apply(func)"
   ],
   "metadata": {
    "collapsed": false
   }
  },
  {
   "cell_type": "code",
   "execution_count": null,
   "outputs": [],
   "source": [
    "text = ' '.join(df.description)\n"
   ],
   "metadata": {
    "collapsed": false
   }
  },
  {
   "cell_type": "code",
   "execution_count": null,
   "outputs": [],
   "source": [
    "def remove_punctuation(txt):\n",
    "    txt = txt.lower()\n",
    "    txt = \"\".join([i for i in txt if i not in string.punctuation])\n",
    "    txt = ''.join([i for i in txt if not i.isdigit()])\n",
    "    txt = txt.replace(\"\\n\",\" \")\n",
    "    return txt\n",
    "\n",
    "text = remove_punctuation(text)\n",
    "tokens_single = word_tokenize(text)"
   ],
   "metadata": {
    "collapsed": false
   }
  },
  {
   "cell_type": "code",
   "execution_count": null,
   "outputs": [],
   "source": [
    "german_stop_words = stopwords.words('german')\n",
    "tokens_single = [i for i in tokens_single if i not in german_stop_words]"
   ],
   "metadata": {
    "collapsed": false
   }
  },
  {
   "cell_type": "code",
   "execution_count": null,
   "outputs": [],
   "source": [
    "lemmatizer = PorterStemmer()\n",
    "tokens_single_ = []\n",
    "for word in tokens:\n",
    "    word = lemmatizer.stem(word)   #dont forget to change stem to lemmatize if you are using a lemmatizer\n",
    "    tokens_single_.append(word)"
   ],
   "metadata": {
    "collapsed": false
   }
  },
  {
   "cell_type": "code",
   "execution_count": null,
   "outputs": [],
   "source": [
    "wordcloud = WordCloud().generate(' '.join(tokens_single_))\n",
    "plt.imshow(wordcloud, interpolation='bilinear')\n",
    "plt.axis(\"off\")\n",
    "wordcloud.to_file('../plots/wordcloud_1.png')"
   ],
   "metadata": {
    "collapsed": false
   }
  },
  {
   "cell_type": "code",
   "execution_count": null,
   "outputs": [],
   "source": [
    "# Creating a function to generate N-Grams\n",
    "def generate_ngrams(text, WordsToCombine):\n",
    "    words = text.split()\n",
    "    words = [i for i in words if i not in german_stop_words]\n",
    "    output = []\n",
    "    for i in range(len(words)- WordsToCombine+1):\n",
    "        output.append(words[i:i+WordsToCombine])\n",
    "    return output\n",
    "\n",
    "bigrams = generate_ngrams(text, WordsToCombine=2)\n",
    "bigrams_con = []\n",
    "\n",
    "for i in bigrams:\n",
    "    bigrams_con.append(f\"{i[0]}_{i[1]}\")\n",
    "\n",
    "joined = \" \".join(bigrams_con)"
   ],
   "metadata": {
    "collapsed": false
   }
  },
  {
   "cell_type": "code",
   "execution_count": null,
   "outputs": [],
   "source": [
    "wordcloud = WordCloud().generate(joined)\n",
    "plt.imshow(wordcloud, interpolation='bilinear')\n",
    "plt.axis(\"off\")\n",
    "plt.show()\n",
    "wordcloud.to_file('../plots/wordcloud_2.png')"
   ],
   "metadata": {
    "collapsed": false
   }
  }
 ],
 "metadata": {
  "kernelspec": {
   "display_name": "Python 3",
   "language": "python",
   "name": "python3"
  },
  "language_info": {
   "codemirror_mode": {
    "name": "ipython",
    "version": 2
   },
   "file_extension": ".py",
   "mimetype": "text/x-python",
   "name": "python",
   "nbconvert_exporter": "python",
   "pygments_lexer": "ipython2",
   "version": "2.7.6"
  }
 },
 "nbformat": 4,
 "nbformat_minor": 0
}
