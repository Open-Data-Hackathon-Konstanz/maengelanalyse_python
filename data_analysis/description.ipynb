{
 "cells": [
  {
   "cell_type": "code",
   "execution_count": 7,
   "metadata": {
    "collapsed": true
   },
   "outputs": [
    {
     "ename": "ModuleNotFoundError",
     "evalue": "No module named 'torch'",
     "output_type": "error",
     "traceback": [
      "\u001B[0;31m---------------------------------------------------------------------------\u001B[0m",
      "\u001B[0;31mModuleNotFoundError\u001B[0m                       Traceback (most recent call last)",
      "Cell \u001B[0;32mIn[7], line 6\u001B[0m\n\u001B[1;32m      4\u001B[0m \u001B[38;5;28;01mimport\u001B[39;00m \u001B[38;5;21;01mmatplotlib\u001B[39;00m\u001B[38;5;21;01m.\u001B[39;00m\u001B[38;5;21;01mpyplot\u001B[39;00m \u001B[38;5;28;01mas\u001B[39;00m \u001B[38;5;21;01mplt\u001B[39;00m\n\u001B[1;32m      5\u001B[0m \u001B[38;5;28;01mimport\u001B[39;00m \u001B[38;5;21;01mtransformers\u001B[39;00m\n\u001B[0;32m----> 6\u001B[0m \u001B[38;5;28;01mimport\u001B[39;00m \u001B[38;5;21;01mtorch\u001B[39;00m\n\u001B[1;32m      7\u001B[0m \u001B[38;5;28;01mfrom\u001B[39;00m \u001B[38;5;21;01mtransformers\u001B[39;00m \u001B[38;5;28;01mimport\u001B[39;00m pipeline\n",
      "\u001B[0;31mModuleNotFoundError\u001B[0m: No module named 'torch'"
     ]
    }
   ],
   "source": [
    "import pandas as pd\n",
    "import numpy as np\n",
    "import datetime\n",
    "import matplotlib.pyplot as plt\n",
    "import transformers\n",
    "import torch\n",
    "from transformers import pipeline"
   ]
  },
  {
   "cell_type": "code",
   "execution_count": 4,
   "outputs": [
    {
     "data": {
      "text/plain": "     id                                        description  \\\n0  3470  alle Straßenlaternen um das Schnetztor defekt....   \n1  3475  Bei Nässe spiegelglatte Stelle. Ich bin am Don...   \n2  3476  Warnschild des Zebrastreifens zum x-ten mal um...   \n3  3495  Bei der Fussgängerampel direkt vor dem Taschen...   \n4  3583  Hallo,\\n\\nder Spielplatz an der Kreuzlingerstr...   \n\n                                        address  \\\n0       Obere Laube 66, 78462 Konstanz, Germany   \n1      Hussenstraße 24, 78462 Konstanz, Germany   \n2    Emmishofer Str. 7, 78462 Konstanz, Germany   \n3   Rosgartenstraße 31, 78462 Konstanz, Germany   \n4  Kreuzlinger Str. 26, 78462 Konstanz, Germany   \n\n                             group_       lon        lat  year  month  \\\n0             Stadtwerke Konstanz\\n  9.170475  47.658698  2020      6   \n1  Technische Betriebe Konstanz\\n\\n  9.172454  47.659835  2020      6   \n2  Technische Betriebe Konstanz\\n\\n  9.170046  47.656598  2020      6   \n3                        Tiefbauamt  9.174359  47.658116  2020      6   \n4  Technische Betriebe Konstanz\\n\\n  9.171569  47.657161  2020      6   \n\n     reported    approved     checked  approved_in  district  \\\n0  2020/06/06  2020/06/06  2020/06/06          1.2  Altstadt   \n1  2020/06/07  2020/06/07  2020/06/07          0.4  Altstadt   \n2  2020/06/08  2020/06/08  2020/06/08          0.6  Altstadt   \n3  2020/06/13  2020/06/13  2020/06/13          1.6  Altstadt   \n4  2020/06/29  2020/06/29  2020/06/29          0.1  Altstadt   \n\n                     main_cat                                sub_cat  \n0                 Beleuchtung                 Straßenlaternen defekt  \n1                    Hinweise                               Hinweise  \n2  Straßen, Fahrrad & Verkehr                   Schilder unkenntlich  \n3  Straßen, Fahrrad & Verkehr                           Ampel defekt  \n4       Öffentliche Orte/Ufer   Spielplätze schadhaft / verunreinigt  ",
      "text/html": "<div>\n<style scoped>\n    .dataframe tbody tr th:only-of-type {\n        vertical-align: middle;\n    }\n\n    .dataframe tbody tr th {\n        vertical-align: top;\n    }\n\n    .dataframe thead th {\n        text-align: right;\n    }\n</style>\n<table border=\"1\" class=\"dataframe\">\n  <thead>\n    <tr style=\"text-align: right;\">\n      <th></th>\n      <th>id</th>\n      <th>description</th>\n      <th>address</th>\n      <th>group_</th>\n      <th>lon</th>\n      <th>lat</th>\n      <th>year</th>\n      <th>month</th>\n      <th>reported</th>\n      <th>approved</th>\n      <th>checked</th>\n      <th>approved_in</th>\n      <th>district</th>\n      <th>main_cat</th>\n      <th>sub_cat</th>\n    </tr>\n  </thead>\n  <tbody>\n    <tr>\n      <th>0</th>\n      <td>3470</td>\n      <td>alle Straßenlaternen um das Schnetztor defekt....</td>\n      <td>Obere Laube 66, 78462 Konstanz, Germany</td>\n      <td>Stadtwerke Konstanz\\n</td>\n      <td>9.170475</td>\n      <td>47.658698</td>\n      <td>2020</td>\n      <td>6</td>\n      <td>2020/06/06</td>\n      <td>2020/06/06</td>\n      <td>2020/06/06</td>\n      <td>1.2</td>\n      <td>Altstadt</td>\n      <td>Beleuchtung</td>\n      <td>Straßenlaternen defekt</td>\n    </tr>\n    <tr>\n      <th>1</th>\n      <td>3475</td>\n      <td>Bei Nässe spiegelglatte Stelle. Ich bin am Don...</td>\n      <td>Hussenstraße 24, 78462 Konstanz, Germany</td>\n      <td>Technische Betriebe Konstanz\\n\\n</td>\n      <td>9.172454</td>\n      <td>47.659835</td>\n      <td>2020</td>\n      <td>6</td>\n      <td>2020/06/07</td>\n      <td>2020/06/07</td>\n      <td>2020/06/07</td>\n      <td>0.4</td>\n      <td>Altstadt</td>\n      <td>Hinweise</td>\n      <td>Hinweise</td>\n    </tr>\n    <tr>\n      <th>2</th>\n      <td>3476</td>\n      <td>Warnschild des Zebrastreifens zum x-ten mal um...</td>\n      <td>Emmishofer Str. 7, 78462 Konstanz, Germany</td>\n      <td>Technische Betriebe Konstanz\\n\\n</td>\n      <td>9.170046</td>\n      <td>47.656598</td>\n      <td>2020</td>\n      <td>6</td>\n      <td>2020/06/08</td>\n      <td>2020/06/08</td>\n      <td>2020/06/08</td>\n      <td>0.6</td>\n      <td>Altstadt</td>\n      <td>Straßen, Fahrrad &amp; Verkehr</td>\n      <td>Schilder unkenntlich</td>\n    </tr>\n    <tr>\n      <th>3</th>\n      <td>3495</td>\n      <td>Bei der Fussgängerampel direkt vor dem Taschen...</td>\n      <td>Rosgartenstraße 31, 78462 Konstanz, Germany</td>\n      <td>Tiefbauamt</td>\n      <td>9.174359</td>\n      <td>47.658116</td>\n      <td>2020</td>\n      <td>6</td>\n      <td>2020/06/13</td>\n      <td>2020/06/13</td>\n      <td>2020/06/13</td>\n      <td>1.6</td>\n      <td>Altstadt</td>\n      <td>Straßen, Fahrrad &amp; Verkehr</td>\n      <td>Ampel defekt</td>\n    </tr>\n    <tr>\n      <th>4</th>\n      <td>3583</td>\n      <td>Hallo,\\n\\nder Spielplatz an der Kreuzlingerstr...</td>\n      <td>Kreuzlinger Str. 26, 78462 Konstanz, Germany</td>\n      <td>Technische Betriebe Konstanz\\n\\n</td>\n      <td>9.171569</td>\n      <td>47.657161</td>\n      <td>2020</td>\n      <td>6</td>\n      <td>2020/06/29</td>\n      <td>2020/06/29</td>\n      <td>2020/06/29</td>\n      <td>0.1</td>\n      <td>Altstadt</td>\n      <td>Öffentliche Orte/Ufer</td>\n      <td>Spielplätze schadhaft / verunreinigt</td>\n    </tr>\n  </tbody>\n</table>\n</div>"
     },
     "execution_count": 4,
     "metadata": {},
     "output_type": "execute_result"
    }
   ],
   "source": [
    "df = pd.read_csv(\"../data/final.csv\")\n",
    "df.head()"
   ],
   "metadata": {
    "collapsed": false
   }
  },
  {
   "cell_type": "code",
   "execution_count": 6,
   "outputs": [
    {
     "name": "stderr",
     "output_type": "stream",
     "text": [
      "No model was supplied, defaulted to distilbert-base-uncased-finetuned-sst-2-english and revision af0f99b (https://huggingface.co/distilbert-base-uncased-finetuned-sst-2-english).\n",
      "Using a pipeline without specifying a model name and revision in production is not recommended.\n"
     ]
    },
    {
     "data": {
      "text/plain": "Downloading:   0%|          | 0.00/629 [00:00<?, ?B/s]",
      "application/vnd.jupyter.widget-view+json": {
       "version_major": 2,
       "version_minor": 0,
       "model_id": "cda14542427b4fe8aadc256073423c41"
      }
     },
     "metadata": {},
     "output_type": "display_data"
    },
    {
     "ename": "RuntimeError",
     "evalue": "At least one of TensorFlow 2.0 or PyTorch should be installed. To install TensorFlow 2.0, read the instructions at https://www.tensorflow.org/install/ To install PyTorch, read the instructions at https://pytorch.org/.",
     "output_type": "error",
     "traceback": [
      "\u001B[0;31m---------------------------------------------------------------------------\u001B[0m",
      "\u001B[0;31mRuntimeError\u001B[0m                              Traceback (most recent call last)",
      "Cell \u001B[0;32mIn[6], line 1\u001B[0m\n\u001B[0;32m----> 1\u001B[0m sentiment_pipeline \u001B[38;5;241m=\u001B[39m \u001B[43mpipeline\u001B[49m\u001B[43m(\u001B[49m\u001B[38;5;124;43m\"\u001B[39;49m\u001B[38;5;124;43msentiment-analysis\u001B[39;49m\u001B[38;5;124;43m\"\u001B[39;49m\u001B[43m)\u001B[49m\n\u001B[1;32m      3\u001B[0m data \u001B[38;5;241m=\u001B[39m [\u001B[38;5;124m\"\u001B[39m\u001B[38;5;124mI love you\u001B[39m\u001B[38;5;124m\"\u001B[39m, \u001B[38;5;124m\"\u001B[39m\u001B[38;5;124mI hate you\u001B[39m\u001B[38;5;124m\"\u001B[39m]\n\u001B[1;32m      4\u001B[0m sentiment_pipeline(data)\n",
      "File \u001B[0;32m~/Cloud/Code/CorrelAid/Open Data Hackathon/Mängelanalyse_Python/venv/lib/python3.10/site-packages/transformers/pipelines/__init__.py:724\u001B[0m, in \u001B[0;36mpipeline\u001B[0;34m(task, model, config, tokenizer, feature_extractor, framework, revision, use_fast, use_auth_token, device, device_map, torch_dtype, trust_remote_code, model_kwargs, pipeline_class, **kwargs)\u001B[0m\n\u001B[1;32m    720\u001B[0m \u001B[38;5;66;03m# Infer the framework from the model\u001B[39;00m\n\u001B[1;32m    721\u001B[0m \u001B[38;5;66;03m# Forced if framework already defined, inferred if it's None\u001B[39;00m\n\u001B[1;32m    722\u001B[0m \u001B[38;5;66;03m# Will load the correct model if possible\u001B[39;00m\n\u001B[1;32m    723\u001B[0m model_classes \u001B[38;5;241m=\u001B[39m {\u001B[38;5;124m\"\u001B[39m\u001B[38;5;124mtf\u001B[39m\u001B[38;5;124m\"\u001B[39m: targeted_task[\u001B[38;5;124m\"\u001B[39m\u001B[38;5;124mtf\u001B[39m\u001B[38;5;124m\"\u001B[39m], \u001B[38;5;124m\"\u001B[39m\u001B[38;5;124mpt\u001B[39m\u001B[38;5;124m\"\u001B[39m: targeted_task[\u001B[38;5;124m\"\u001B[39m\u001B[38;5;124mpt\u001B[39m\u001B[38;5;124m\"\u001B[39m]}\n\u001B[0;32m--> 724\u001B[0m framework, model \u001B[38;5;241m=\u001B[39m \u001B[43minfer_framework_load_model\u001B[49m\u001B[43m(\u001B[49m\n\u001B[1;32m    725\u001B[0m \u001B[43m    \u001B[49m\u001B[43mmodel\u001B[49m\u001B[43m,\u001B[49m\n\u001B[1;32m    726\u001B[0m \u001B[43m    \u001B[49m\u001B[43mmodel_classes\u001B[49m\u001B[38;5;241;43m=\u001B[39;49m\u001B[43mmodel_classes\u001B[49m\u001B[43m,\u001B[49m\n\u001B[1;32m    727\u001B[0m \u001B[43m    \u001B[49m\u001B[43mconfig\u001B[49m\u001B[38;5;241;43m=\u001B[39;49m\u001B[43mconfig\u001B[49m\u001B[43m,\u001B[49m\n\u001B[1;32m    728\u001B[0m \u001B[43m    \u001B[49m\u001B[43mframework\u001B[49m\u001B[38;5;241;43m=\u001B[39;49m\u001B[43mframework\u001B[49m\u001B[43m,\u001B[49m\n\u001B[1;32m    729\u001B[0m \u001B[43m    \u001B[49m\u001B[43mtask\u001B[49m\u001B[38;5;241;43m=\u001B[39;49m\u001B[43mtask\u001B[49m\u001B[43m,\u001B[49m\n\u001B[1;32m    730\u001B[0m \u001B[43m    \u001B[49m\u001B[38;5;241;43m*\u001B[39;49m\u001B[38;5;241;43m*\u001B[39;49m\u001B[43mhub_kwargs\u001B[49m\u001B[43m,\u001B[49m\n\u001B[1;32m    731\u001B[0m \u001B[43m    \u001B[49m\u001B[38;5;241;43m*\u001B[39;49m\u001B[38;5;241;43m*\u001B[39;49m\u001B[43mmodel_kwargs\u001B[49m\u001B[43m,\u001B[49m\n\u001B[1;32m    732\u001B[0m \u001B[43m\u001B[49m\u001B[43m)\u001B[49m\n\u001B[1;32m    734\u001B[0m model_config \u001B[38;5;241m=\u001B[39m model\u001B[38;5;241m.\u001B[39mconfig\n\u001B[1;32m    735\u001B[0m hub_kwargs[\u001B[38;5;124m\"\u001B[39m\u001B[38;5;124m_commit_hash\u001B[39m\u001B[38;5;124m\"\u001B[39m] \u001B[38;5;241m=\u001B[39m model\u001B[38;5;241m.\u001B[39mconfig\u001B[38;5;241m.\u001B[39m_commit_hash\n",
      "File \u001B[0;32m~/Cloud/Code/CorrelAid/Open Data Hackathon/Mängelanalyse_Python/venv/lib/python3.10/site-packages/transformers/pipelines/base.py:209\u001B[0m, in \u001B[0;36minfer_framework_load_model\u001B[0;34m(model, config, model_classes, task, framework, **model_kwargs)\u001B[0m\n\u001B[1;32m    183\u001B[0m \u001B[38;5;124;03m\"\"\"\u001B[39;00m\n\u001B[1;32m    184\u001B[0m \u001B[38;5;124;03mSelect framework (TensorFlow or PyTorch) to use from the `model` passed. Returns a tuple (framework, model).\u001B[39;00m\n\u001B[1;32m    185\u001B[0m \n\u001B[0;32m   (...)\u001B[0m\n\u001B[1;32m    206\u001B[0m \u001B[38;5;124;03m    `Tuple`: A tuple framework, model.\u001B[39;00m\n\u001B[1;32m    207\u001B[0m \u001B[38;5;124;03m\"\"\"\u001B[39;00m\n\u001B[1;32m    208\u001B[0m \u001B[38;5;28;01mif\u001B[39;00m \u001B[38;5;129;01mnot\u001B[39;00m is_tf_available() \u001B[38;5;129;01mand\u001B[39;00m \u001B[38;5;129;01mnot\u001B[39;00m is_torch_available():\n\u001B[0;32m--> 209\u001B[0m     \u001B[38;5;28;01mraise\u001B[39;00m \u001B[38;5;167;01mRuntimeError\u001B[39;00m(\n\u001B[1;32m    210\u001B[0m         \u001B[38;5;124m\"\u001B[39m\u001B[38;5;124mAt least one of TensorFlow 2.0 or PyTorch should be installed. \u001B[39m\u001B[38;5;124m\"\u001B[39m\n\u001B[1;32m    211\u001B[0m         \u001B[38;5;124m\"\u001B[39m\u001B[38;5;124mTo install TensorFlow 2.0, read the instructions at https://www.tensorflow.org/install/ \u001B[39m\u001B[38;5;124m\"\u001B[39m\n\u001B[1;32m    212\u001B[0m         \u001B[38;5;124m\"\u001B[39m\u001B[38;5;124mTo install PyTorch, read the instructions at https://pytorch.org/.\u001B[39m\u001B[38;5;124m\"\u001B[39m\n\u001B[1;32m    213\u001B[0m     )\n\u001B[1;32m    214\u001B[0m \u001B[38;5;28;01mif\u001B[39;00m \u001B[38;5;28misinstance\u001B[39m(model, \u001B[38;5;28mstr\u001B[39m):\n\u001B[1;32m    215\u001B[0m     model_kwargs[\u001B[38;5;124m\"\u001B[39m\u001B[38;5;124m_from_pipeline\u001B[39m\u001B[38;5;124m\"\u001B[39m] \u001B[38;5;241m=\u001B[39m task\n",
      "\u001B[0;31mRuntimeError\u001B[0m: At least one of TensorFlow 2.0 or PyTorch should be installed. To install TensorFlow 2.0, read the instructions at https://www.tensorflow.org/install/ To install PyTorch, read the instructions at https://pytorch.org/."
     ]
    }
   ],
   "source": [
    "sentiment_pipeline = pipeline(\"sentiment-analysis\")\n",
    "\n",
    "data = [\"I love you\", \"I hate you\"]\n",
    "sentiment_pipeline(data)"
   ],
   "metadata": {
    "collapsed": false
   }
  }
 ],
 "metadata": {
  "kernelspec": {
   "display_name": "Python 3",
   "language": "python",
   "name": "python3"
  },
  "language_info": {
   "codemirror_mode": {
    "name": "ipython",
    "version": 2
   },
   "file_extension": ".py",
   "mimetype": "text/x-python",
   "name": "python",
   "nbconvert_exporter": "python",
   "pygments_lexer": "ipython2",
   "version": "2.7.6"
  }
 },
 "nbformat": 4,
 "nbformat_minor": 0
}
