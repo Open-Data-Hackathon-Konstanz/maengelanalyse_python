{
 "cells": [
  {
   "cell_type": "code",
   "execution_count": 7,
   "metadata": {
    "collapsed": true
   },
   "outputs": [],
   "source": [
    "import pandas as pd\n",
    "import numpy as np\n",
    "import datetime\n",
    "import matplotlib.pyplot as plt\n",
    "import torch\n",
    "import transformers\n",
    "from germansentiment import SentimentModel"
   ]
  },
  {
   "cell_type": "code",
   "execution_count": 8,
   "outputs": [
    {
     "data": {
      "text/plain": "     id                                        description  \\\n0  3470  alle Straßenlaternen um das Schnetztor defekt....   \n1  3475  Bei Nässe spiegelglatte Stelle. Ich bin am Don...   \n2  3476  Warnschild des Zebrastreifens zum x-ten mal um...   \n3  3495  Bei der Fussgängerampel direkt vor dem Taschen...   \n4  3583  Hallo,\\n\\nder Spielplatz an der Kreuzlingerstr...   \n\n                                        address  \\\n0       Obere Laube 66, 78462 Konstanz, Germany   \n1      Hussenstraße 24, 78462 Konstanz, Germany   \n2    Emmishofer Str. 7, 78462 Konstanz, Germany   \n3   Rosgartenstraße 31, 78462 Konstanz, Germany   \n4  Kreuzlinger Str. 26, 78462 Konstanz, Germany   \n\n                             group_       lon        lat  year  month  \\\n0             Stadtwerke Konstanz\\n  9.170475  47.658698  2020      6   \n1  Technische Betriebe Konstanz\\n\\n  9.172454  47.659835  2020      6   \n2  Technische Betriebe Konstanz\\n\\n  9.170046  47.656598  2020      6   \n3                        Tiefbauamt  9.174359  47.658116  2020      6   \n4  Technische Betriebe Konstanz\\n\\n  9.171569  47.657161  2020      6   \n\n              reported             approved              checked  approved_in  \\\n0  2020-06-06 23:48:00  2020-06-08 05:31:00  2020-06-08 05:31:00          1.2   \n1  2020-06-07 19:26:00  2020-06-08 05:33:00  2020-06-08 05:33:00          0.4   \n2  2020-06-08 17:08:00  2020-06-09 08:25:00  2020-06-09 08:25:00          0.6   \n3  2020-06-13 18:23:00  2020-06-15 07:50:00  2020-06-15 07:50:00          1.6   \n4  2020-06-29 11:46:00  2020-06-29 14:04:00  2020-06-29 14:04:00          0.1   \n\n   district                    main_cat                                sub_cat  \n0  Altstadt                 Beleuchtung                 Straßenlaternen defekt  \n1  Altstadt                    Hinweise                               Hinweise  \n2  Altstadt  Straßen, Fahrrad & Verkehr                   Schilder unkenntlich  \n3  Altstadt  Straßen, Fahrrad & Verkehr                           Ampel defekt  \n4  Altstadt       Öffentliche Orte/Ufer   Spielplätze schadhaft / verunreinigt  ",
      "text/html": "<div>\n<style scoped>\n    .dataframe tbody tr th:only-of-type {\n        vertical-align: middle;\n    }\n\n    .dataframe tbody tr th {\n        vertical-align: top;\n    }\n\n    .dataframe thead th {\n        text-align: right;\n    }\n</style>\n<table border=\"1\" class=\"dataframe\">\n  <thead>\n    <tr style=\"text-align: right;\">\n      <th></th>\n      <th>id</th>\n      <th>description</th>\n      <th>address</th>\n      <th>group_</th>\n      <th>lon</th>\n      <th>lat</th>\n      <th>year</th>\n      <th>month</th>\n      <th>reported</th>\n      <th>approved</th>\n      <th>checked</th>\n      <th>approved_in</th>\n      <th>district</th>\n      <th>main_cat</th>\n      <th>sub_cat</th>\n    </tr>\n  </thead>\n  <tbody>\n    <tr>\n      <th>0</th>\n      <td>3470</td>\n      <td>alle Straßenlaternen um das Schnetztor defekt....</td>\n      <td>Obere Laube 66, 78462 Konstanz, Germany</td>\n      <td>Stadtwerke Konstanz\\n</td>\n      <td>9.170475</td>\n      <td>47.658698</td>\n      <td>2020</td>\n      <td>6</td>\n      <td>2020-06-06 23:48:00</td>\n      <td>2020-06-08 05:31:00</td>\n      <td>2020-06-08 05:31:00</td>\n      <td>1.2</td>\n      <td>Altstadt</td>\n      <td>Beleuchtung</td>\n      <td>Straßenlaternen defekt</td>\n    </tr>\n    <tr>\n      <th>1</th>\n      <td>3475</td>\n      <td>Bei Nässe spiegelglatte Stelle. Ich bin am Don...</td>\n      <td>Hussenstraße 24, 78462 Konstanz, Germany</td>\n      <td>Technische Betriebe Konstanz\\n\\n</td>\n      <td>9.172454</td>\n      <td>47.659835</td>\n      <td>2020</td>\n      <td>6</td>\n      <td>2020-06-07 19:26:00</td>\n      <td>2020-06-08 05:33:00</td>\n      <td>2020-06-08 05:33:00</td>\n      <td>0.4</td>\n      <td>Altstadt</td>\n      <td>Hinweise</td>\n      <td>Hinweise</td>\n    </tr>\n    <tr>\n      <th>2</th>\n      <td>3476</td>\n      <td>Warnschild des Zebrastreifens zum x-ten mal um...</td>\n      <td>Emmishofer Str. 7, 78462 Konstanz, Germany</td>\n      <td>Technische Betriebe Konstanz\\n\\n</td>\n      <td>9.170046</td>\n      <td>47.656598</td>\n      <td>2020</td>\n      <td>6</td>\n      <td>2020-06-08 17:08:00</td>\n      <td>2020-06-09 08:25:00</td>\n      <td>2020-06-09 08:25:00</td>\n      <td>0.6</td>\n      <td>Altstadt</td>\n      <td>Straßen, Fahrrad &amp; Verkehr</td>\n      <td>Schilder unkenntlich</td>\n    </tr>\n    <tr>\n      <th>3</th>\n      <td>3495</td>\n      <td>Bei der Fussgängerampel direkt vor dem Taschen...</td>\n      <td>Rosgartenstraße 31, 78462 Konstanz, Germany</td>\n      <td>Tiefbauamt</td>\n      <td>9.174359</td>\n      <td>47.658116</td>\n      <td>2020</td>\n      <td>6</td>\n      <td>2020-06-13 18:23:00</td>\n      <td>2020-06-15 07:50:00</td>\n      <td>2020-06-15 07:50:00</td>\n      <td>1.6</td>\n      <td>Altstadt</td>\n      <td>Straßen, Fahrrad &amp; Verkehr</td>\n      <td>Ampel defekt</td>\n    </tr>\n    <tr>\n      <th>4</th>\n      <td>3583</td>\n      <td>Hallo,\\n\\nder Spielplatz an der Kreuzlingerstr...</td>\n      <td>Kreuzlinger Str. 26, 78462 Konstanz, Germany</td>\n      <td>Technische Betriebe Konstanz\\n\\n</td>\n      <td>9.171569</td>\n      <td>47.657161</td>\n      <td>2020</td>\n      <td>6</td>\n      <td>2020-06-29 11:46:00</td>\n      <td>2020-06-29 14:04:00</td>\n      <td>2020-06-29 14:04:00</td>\n      <td>0.1</td>\n      <td>Altstadt</td>\n      <td>Öffentliche Orte/Ufer</td>\n      <td>Spielplätze schadhaft / verunreinigt</td>\n    </tr>\n  </tbody>\n</table>\n</div>"
     },
     "execution_count": 8,
     "metadata": {},
     "output_type": "execute_result"
    }
   ],
   "source": [
    "df = pd.read_csv(\"../data/final.csv\")\n",
    "df.head()"
   ],
   "metadata": {
    "collapsed": false
   }
  },
  {
   "cell_type": "code",
   "execution_count": 18,
   "outputs": [],
   "source": [
    "model = SentimentModel()"
   ],
   "metadata": {
    "collapsed": false
   }
  },
  {
   "cell_type": "code",
   "execution_count": 25,
   "outputs": [],
   "source": [
    "def sentiment_func(x):\n",
    "    sentiment = model.predict_sentiment([x])\n",
    "    return sentiment\n",
    "\n",
    "df[\"sentiment\"] =  df.description.apply(sentiment_func)"
   ],
   "metadata": {
    "collapsed": false
   }
  },
  {
   "cell_type": "code",
   "execution_count": 26,
   "outputs": [
    {
     "data": {
      "text/plain": "     id                                        description  \\\n0  3470  alle Straßenlaternen um das Schnetztor defekt....   \n1  3475  Bei Nässe spiegelglatte Stelle. Ich bin am Don...   \n2  3476  Warnschild des Zebrastreifens zum x-ten mal um...   \n3  3495  Bei der Fussgängerampel direkt vor dem Taschen...   \n4  3583  Hallo,\\n\\nder Spielplatz an der Kreuzlingerstr...   \n\n                                        address  \\\n0       Obere Laube 66, 78462 Konstanz, Germany   \n1      Hussenstraße 24, 78462 Konstanz, Germany   \n2    Emmishofer Str. 7, 78462 Konstanz, Germany   \n3   Rosgartenstraße 31, 78462 Konstanz, Germany   \n4  Kreuzlinger Str. 26, 78462 Konstanz, Germany   \n\n                             group_       lon        lat  year  month  \\\n0             Stadtwerke Konstanz\\n  9.170475  47.658698  2020      6   \n1  Technische Betriebe Konstanz\\n\\n  9.172454  47.659835  2020      6   \n2  Technische Betriebe Konstanz\\n\\n  9.170046  47.656598  2020      6   \n3                        Tiefbauamt  9.174359  47.658116  2020      6   \n4  Technische Betriebe Konstanz\\n\\n  9.171569  47.657161  2020      6   \n\n              reported             approved              checked  approved_in  \\\n0  2020-06-06 23:48:00  2020-06-08 05:31:00  2020-06-08 05:31:00          1.2   \n1  2020-06-07 19:26:00  2020-06-08 05:33:00  2020-06-08 05:33:00          0.4   \n2  2020-06-08 17:08:00  2020-06-09 08:25:00  2020-06-09 08:25:00          0.6   \n3  2020-06-13 18:23:00  2020-06-15 07:50:00  2020-06-15 07:50:00          1.6   \n4  2020-06-29 11:46:00  2020-06-29 14:04:00  2020-06-29 14:04:00          0.1   \n\n   district                    main_cat  \\\n0  Altstadt                 Beleuchtung   \n1  Altstadt                    Hinweise   \n2  Altstadt  Straßen, Fahrrad & Verkehr   \n3  Altstadt  Straßen, Fahrrad & Verkehr   \n4  Altstadt       Öffentliche Orte/Ufer   \n\n                                 sub_cat   sentiment  \n0                 Straßenlaternen defekt  [negative]  \n1                               Hinweise  [negative]  \n2                   Schilder unkenntlich   [neutral]  \n3                           Ampel defekt   [neutral]  \n4   Spielplätze schadhaft / verunreinigt  [negative]  ",
      "text/html": "<div>\n<style scoped>\n    .dataframe tbody tr th:only-of-type {\n        vertical-align: middle;\n    }\n\n    .dataframe tbody tr th {\n        vertical-align: top;\n    }\n\n    .dataframe thead th {\n        text-align: right;\n    }\n</style>\n<table border=\"1\" class=\"dataframe\">\n  <thead>\n    <tr style=\"text-align: right;\">\n      <th></th>\n      <th>id</th>\n      <th>description</th>\n      <th>address</th>\n      <th>group_</th>\n      <th>lon</th>\n      <th>lat</th>\n      <th>year</th>\n      <th>month</th>\n      <th>reported</th>\n      <th>approved</th>\n      <th>checked</th>\n      <th>approved_in</th>\n      <th>district</th>\n      <th>main_cat</th>\n      <th>sub_cat</th>\n      <th>sentiment</th>\n    </tr>\n  </thead>\n  <tbody>\n    <tr>\n      <th>0</th>\n      <td>3470</td>\n      <td>alle Straßenlaternen um das Schnetztor defekt....</td>\n      <td>Obere Laube 66, 78462 Konstanz, Germany</td>\n      <td>Stadtwerke Konstanz\\n</td>\n      <td>9.170475</td>\n      <td>47.658698</td>\n      <td>2020</td>\n      <td>6</td>\n      <td>2020-06-06 23:48:00</td>\n      <td>2020-06-08 05:31:00</td>\n      <td>2020-06-08 05:31:00</td>\n      <td>1.2</td>\n      <td>Altstadt</td>\n      <td>Beleuchtung</td>\n      <td>Straßenlaternen defekt</td>\n      <td>[negative]</td>\n    </tr>\n    <tr>\n      <th>1</th>\n      <td>3475</td>\n      <td>Bei Nässe spiegelglatte Stelle. Ich bin am Don...</td>\n      <td>Hussenstraße 24, 78462 Konstanz, Germany</td>\n      <td>Technische Betriebe Konstanz\\n\\n</td>\n      <td>9.172454</td>\n      <td>47.659835</td>\n      <td>2020</td>\n      <td>6</td>\n      <td>2020-06-07 19:26:00</td>\n      <td>2020-06-08 05:33:00</td>\n      <td>2020-06-08 05:33:00</td>\n      <td>0.4</td>\n      <td>Altstadt</td>\n      <td>Hinweise</td>\n      <td>Hinweise</td>\n      <td>[negative]</td>\n    </tr>\n    <tr>\n      <th>2</th>\n      <td>3476</td>\n      <td>Warnschild des Zebrastreifens zum x-ten mal um...</td>\n      <td>Emmishofer Str. 7, 78462 Konstanz, Germany</td>\n      <td>Technische Betriebe Konstanz\\n\\n</td>\n      <td>9.170046</td>\n      <td>47.656598</td>\n      <td>2020</td>\n      <td>6</td>\n      <td>2020-06-08 17:08:00</td>\n      <td>2020-06-09 08:25:00</td>\n      <td>2020-06-09 08:25:00</td>\n      <td>0.6</td>\n      <td>Altstadt</td>\n      <td>Straßen, Fahrrad &amp; Verkehr</td>\n      <td>Schilder unkenntlich</td>\n      <td>[neutral]</td>\n    </tr>\n    <tr>\n      <th>3</th>\n      <td>3495</td>\n      <td>Bei der Fussgängerampel direkt vor dem Taschen...</td>\n      <td>Rosgartenstraße 31, 78462 Konstanz, Germany</td>\n      <td>Tiefbauamt</td>\n      <td>9.174359</td>\n      <td>47.658116</td>\n      <td>2020</td>\n      <td>6</td>\n      <td>2020-06-13 18:23:00</td>\n      <td>2020-06-15 07:50:00</td>\n      <td>2020-06-15 07:50:00</td>\n      <td>1.6</td>\n      <td>Altstadt</td>\n      <td>Straßen, Fahrrad &amp; Verkehr</td>\n      <td>Ampel defekt</td>\n      <td>[neutral]</td>\n    </tr>\n    <tr>\n      <th>4</th>\n      <td>3583</td>\n      <td>Hallo,\\n\\nder Spielplatz an der Kreuzlingerstr...</td>\n      <td>Kreuzlinger Str. 26, 78462 Konstanz, Germany</td>\n      <td>Technische Betriebe Konstanz\\n\\n</td>\n      <td>9.171569</td>\n      <td>47.657161</td>\n      <td>2020</td>\n      <td>6</td>\n      <td>2020-06-29 11:46:00</td>\n      <td>2020-06-29 14:04:00</td>\n      <td>2020-06-29 14:04:00</td>\n      <td>0.1</td>\n      <td>Altstadt</td>\n      <td>Öffentliche Orte/Ufer</td>\n      <td>Spielplätze schadhaft / verunreinigt</td>\n      <td>[negative]</td>\n    </tr>\n  </tbody>\n</table>\n</div>"
     },
     "execution_count": 26,
     "metadata": {},
     "output_type": "execute_result"
    }
   ],
   "source": [
    "df.head()"
   ],
   "metadata": {
    "collapsed": false
   }
  },
  {
   "cell_type": "code",
   "execution_count": 32,
   "outputs": [],
   "source": [
    "def func(x):\n",
    "    return x[0]\n",
    "df.sentiment = df.sentiment.apply(func)"
   ],
   "metadata": {
    "collapsed": false
   }
  },
  {
   "cell_type": "code",
   "execution_count": 33,
   "outputs": [],
   "source": [
    "df.to_csv(\"../data/final_sentiment_.csv\", index=False)\n",
    "df.to_excel(\"../data/final_sentiment.xlsx\", index=False)"
   ],
   "metadata": {
    "collapsed": false
   }
  },
  {
   "cell_type": "code",
   "execution_count": 79,
   "outputs": [
    {
     "ename": "AttributeError",
     "evalue": "'Series' object has no attribute 'names'",
     "output_type": "error",
     "traceback": [
      "\u001B[0;31m---------------------------------------------------------------------------\u001B[0m",
      "\u001B[0;31mAttributeError\u001B[0m                            Traceback (most recent call last)",
      "Cell \u001B[0;32mIn[79], line 2\u001B[0m\n\u001B[1;32m      1\u001B[0m values \u001B[38;5;241m=\u001B[39m \u001B[38;5;28mlist\u001B[39m(df\u001B[38;5;241m.\u001B[39msentiment\u001B[38;5;241m.\u001B[39mvalue_counts()\u001B[38;5;241m.\u001B[39mvalues)\n\u001B[0;32m----> 2\u001B[0m names \u001B[38;5;241m=\u001B[39m \u001B[43mdf\u001B[49m\u001B[38;5;241;43m.\u001B[39;49m\u001B[43msentiment\u001B[49m\u001B[38;5;241;43m.\u001B[39;49m\u001B[43mvalue_counts\u001B[49m\u001B[43m(\u001B[49m\u001B[43m)\u001B[49m\u001B[38;5;241;43m.\u001B[39;49m\u001B[43mnames\u001B[49m\n",
      "File \u001B[0;32m~/Cloud/Code/CorrelAid/Open Data Hackathon/Mängelanalyse_Python/venv/lib/python3.10/site-packages/pandas/core/generic.py:5902\u001B[0m, in \u001B[0;36mNDFrame.__getattr__\u001B[0;34m(self, name)\u001B[0m\n\u001B[1;32m   5895\u001B[0m \u001B[38;5;28;01mif\u001B[39;00m (\n\u001B[1;32m   5896\u001B[0m     name \u001B[38;5;129;01mnot\u001B[39;00m \u001B[38;5;129;01min\u001B[39;00m \u001B[38;5;28mself\u001B[39m\u001B[38;5;241m.\u001B[39m_internal_names_set\n\u001B[1;32m   5897\u001B[0m     \u001B[38;5;129;01mand\u001B[39;00m name \u001B[38;5;129;01mnot\u001B[39;00m \u001B[38;5;129;01min\u001B[39;00m \u001B[38;5;28mself\u001B[39m\u001B[38;5;241m.\u001B[39m_metadata\n\u001B[1;32m   5898\u001B[0m     \u001B[38;5;129;01mand\u001B[39;00m name \u001B[38;5;129;01mnot\u001B[39;00m \u001B[38;5;129;01min\u001B[39;00m \u001B[38;5;28mself\u001B[39m\u001B[38;5;241m.\u001B[39m_accessors\n\u001B[1;32m   5899\u001B[0m     \u001B[38;5;129;01mand\u001B[39;00m \u001B[38;5;28mself\u001B[39m\u001B[38;5;241m.\u001B[39m_info_axis\u001B[38;5;241m.\u001B[39m_can_hold_identifiers_and_holds_name(name)\n\u001B[1;32m   5900\u001B[0m ):\n\u001B[1;32m   5901\u001B[0m     \u001B[38;5;28;01mreturn\u001B[39;00m \u001B[38;5;28mself\u001B[39m[name]\n\u001B[0;32m-> 5902\u001B[0m \u001B[38;5;28;01mreturn\u001B[39;00m \u001B[38;5;28;43mobject\u001B[39;49m\u001B[38;5;241;43m.\u001B[39;49m\u001B[38;5;21;43m__getattribute__\u001B[39;49m\u001B[43m(\u001B[49m\u001B[38;5;28;43mself\u001B[39;49m\u001B[43m,\u001B[49m\u001B[43m \u001B[49m\u001B[43mname\u001B[49m\u001B[43m)\u001B[49m\n",
      "\u001B[0;31mAttributeError\u001B[0m: 'Series' object has no attribute 'names'"
     ]
    }
   ],
   "source": [
    "values = list(df.sentiment.value_counts().values)"
   ],
   "metadata": {
    "collapsed": false
   }
  },
  {
   "cell_type": "code",
   "execution_count": 82,
   "outputs": [
    {
     "data": {
      "text/plain": "neutral     1890\nnegative    1809\npositive      92\nName: sentiment, dtype: int64"
     },
     "execution_count": 82,
     "metadata": {},
     "output_type": "execute_result"
    }
   ],
   "source": [
    "[\"neutral\",\"negative\", \"positive\"]"
   ],
   "metadata": {
    "collapsed": false
   }
  },
  {
   "cell_type": "code",
   "execution_count": 86,
   "outputs": [
    {
     "data": {
      "text/plain": "<Figure size 640x480 with 1 Axes>",
      "image/png": "[encoded data removed]"
     },
     "metadata": {},
     "output_type": "display_data"
    }
   ],
   "source": [
    "plt.bar(height=values, x=[\"neutral\",\"negative\", \"positive\"])\n",
    "plt.savefig('../plots/sentiment_bar.png')"
   ],
   "metadata": {
    "collapsed": false
   }
  },
  {
   "cell_type": "code",
   "execution_count": 63,
   "outputs": [
    {
     "data": {
      "text/plain": "'Auf den Säulen der Einfahrt zur Stromeyersdorfstr. 12 sind antike Lampen montiert.\\nBeim Sturm letzte Woche hat sich der Deckel / das Dach einer Lampe losgerissen und ist auf den Boden gefallen.\\nDer Deckel war mit einem Draht befestigt. \\nBitte befestigen Sie den Deckel wieder. Vielleicht eignen sich schwarze Kabelbinder besser. \\nSicherheitshalber sollte evtl. die zweite Lampe auch überprüft werden.\\nIm Hof parken Autos, die könnten durch herumfliegende Deckel beschädigt werden.\\nIch habe den Deckel an der Säule am Boden angelehnt.'"
     },
     "execution_count": 63,
     "metadata": {},
     "output_type": "execute_result"
    }
   ],
   "source": [
    "df[df.sentiment==\"positive\"].iloc[50,1]"
   ],
   "metadata": {
    "collapsed": false
   }
  },
  {
   "cell_type": "code",
   "execution_count": null,
   "outputs": [],
   "source": [],
   "metadata": {
    "collapsed": false
   }
  }
 ],
 "metadata": {
  "kernelspec": {
   "display_name": "Python 3",
   "language": "python",
   "name": "python3"
  },
  "language_info": {
   "codemirror_mode": {
    "name": "ipython",
    "version": 2
   },
   "file_extension": ".py",
   "mimetype": "text/x-python",
   "name": "python",
   "nbconvert_exporter": "python",
   "pygments_lexer": "ipython2",
   "version": "2.7.6"
  }
 },
 "nbformat": 4,
 "nbformat_minor": 0
}
