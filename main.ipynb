{
 "cells": [
  {
   "cell_type": "code",
   "execution_count": 0,
   "metadata": {
    "collapsed": true
   },
   "outputs": [],
   "source": [
    "from opencity import opencity as oc\n",
    "from opencity import config as conf\n",
    "import pandas as pd"
   ]
  },
  {
   "cell_type": "markdown",
   "source": [
    "## Loading the data"
   ],
   "metadata": {
    "collapsed": false
   }
  },
  {
   "cell_type": "code",
   "execution_count": 29,
   "outputs": [
    {
     "name": "stdout",
     "output_type": "stream",
     "text": [
      "Loading data\n"
     ]
    },
    {
     "name": "stderr",
     "output_type": "stream",
     "text": [
      "[Loading Progress] :   0%|          | 0/1 [00:00<?, ?it/s]\n",
      "[Loading Progress] :   0%|          | 0/1 [00:00<?, ?it/s]\n",
      "                                                          \r"
     ]
    },
    {
     "name": "stdout",
     "output_type": "stream",
     "text": [
      "[+] Successfully loaded data set:\t maengelmelder_2020_10-2022.csv_csv\n"
     ]
    },
    {
     "name": "stderr",
     "output_type": "stream",
     "text": [
      "\n",
      "[Loading Progress] :   0%|          | 0/1 [00:00<?, ?it/s]\n",
      "[Loading Progress] : 100%|██████████| 1/1 [00:00<00:00,  1.47it/s]\n",
      "[Loading Progress] : 100%|██████████| 1/1 [00:00<00:00,  1.06it/s]\n"
     ]
    },
    {
     "data": {
      "text/plain": "     ID                                               Text  \\\n0  2972                    Schleyerweg Lampe Nr. 7 defekt    \n1  2973  Zwei Schlaglöcher die immer größer werden. Bez...   \n2  2974  An dem Jungbaum gegenüber Flurweg 5a wurde mit...   \n3  2975  Die Platte der Stufe ist locker und wackelt. I...   \n4  2976  Die Platte der Stufe ist locker und wackelt. I...   \n\n                                        Kategorie  \\\n0            Beleuchtung > Straßenlaternen defekt   \n1     Straßen, Fahrrad & Verkehr > Straßenschäden   \n2                             Hinweise > Hinweise   \n3  Straßen, Fahrrad & Verkehr > Fußwege schadhaft   \n4  Straßen, Fahrrad & Verkehr > Fußwege schadhaft   \n\n                 Automatisch-ermittelte-Adresse  \\\n0        Schleyerweg 6, 78467 Konstanz, Germany   \n1            Seehang 6, 78465 Konstanz, Germany   \n2            Flurweg 3, 78464 Konstanz, Germany   \n3  Gottlieber Str. 56A, 78462 Konstanz, Germany   \n4  Gottlieber Str. 56A, 78462 Konstanz, Germany   \n\n                                 Gruppe          lon          lat  Jahr  \\\n0                 Stadtwerke Konstanz\\n  9,162127934  47,68412496  2020   \n1   Ortsverwaltung Dettingen-Wallhausen  9,129629945  47,74784292  2020   \n2      Technische Betriebe Konstanz\\n\\n  9,192642756   47,6922771  2020   \n3  Technische Betriebe Konstanz\\r\\n\\r\\n  9,161880716  47,66302385  2020   \n4                            Moderation  9,161880716  47,66302385  2020   \n\n   Monat       Gemeldet-am    Freigegeben-am       Geprueft-am Freigabe-in  \\\n0      1  01.01.2020 17:06  02.01.2020 06:52  02.01.2020 06:52         0,6   \n1      1  01.01.2020 18:01  02.01.2020 06:53  02.01.2020 06:53         0,5   \n2      1  02.01.2020 16:22  03.01.2020 06:44  03.01.2020 06:44         0,6   \n3      1  03.01.2020 10:50  06.01.2020 07:58  06.01.2020 07:58         2,9   \n4      1  03.01.2020 10:50                                                   \n\n  Stadtteil  \n0            \n1            \n2       Egg  \n3            \n4            ",
      "text/html": "<div>\n<style scoped>\n    .dataframe tbody tr th:only-of-type {\n        vertical-align: middle;\n    }\n\n    .dataframe tbody tr th {\n        vertical-align: top;\n    }\n\n    .dataframe thead th {\n        text-align: right;\n    }\n</style>\n<table border=\"1\" class=\"dataframe\">\n  <thead>\n    <tr style=\"text-align: right;\">\n      <th></th>\n      <th>ID</th>\n      <th>Text</th>\n      <th>Kategorie</th>\n      <th>Automatisch-ermittelte-Adresse</th>\n      <th>Gruppe</th>\n      <th>lon</th>\n      <th>lat</th>\n      <th>Jahr</th>\n      <th>Monat</th>\n      <th>Gemeldet-am</th>\n      <th>Freigegeben-am</th>\n      <th>Geprueft-am</th>\n      <th>Freigabe-in</th>\n      <th>Stadtteil</th>\n    </tr>\n  </thead>\n  <tbody>\n    <tr>\n      <th>0</th>\n      <td>2972</td>\n      <td>Schleyerweg Lampe Nr. 7 defekt</td>\n      <td>Beleuchtung &gt; Straßenlaternen defekt</td>\n      <td>Schleyerweg 6, 78467 Konstanz, Germany</td>\n      <td>Stadtwerke Konstanz\\n</td>\n      <td>9,162127934</td>\n      <td>47,68412496</td>\n      <td>2020</td>\n      <td>1</td>\n      <td>01.01.2020 17:06</td>\n      <td>02.01.2020 06:52</td>\n      <td>02.01.2020 06:52</td>\n      <td>0,6</td>\n      <td></td>\n    </tr>\n    <tr>\n      <th>1</th>\n      <td>2973</td>\n      <td>Zwei Schlaglöcher die immer größer werden. Bez...</td>\n      <td>Straßen, Fahrrad &amp; Verkehr &gt; Straßenschäden</td>\n      <td>Seehang 6, 78465 Konstanz, Germany</td>\n      <td>Ortsverwaltung Dettingen-Wallhausen</td>\n      <td>9,129629945</td>\n      <td>47,74784292</td>\n      <td>2020</td>\n      <td>1</td>\n      <td>01.01.2020 18:01</td>\n      <td>02.01.2020 06:53</td>\n      <td>02.01.2020 06:53</td>\n      <td>0,5</td>\n      <td></td>\n    </tr>\n    <tr>\n      <th>2</th>\n      <td>2974</td>\n      <td>An dem Jungbaum gegenüber Flurweg 5a wurde mit...</td>\n      <td>Hinweise &gt; Hinweise</td>\n      <td>Flurweg 3, 78464 Konstanz, Germany</td>\n      <td>Technische Betriebe Konstanz\\n\\n</td>\n      <td>9,192642756</td>\n      <td>47,6922771</td>\n      <td>2020</td>\n      <td>1</td>\n      <td>02.01.2020 16:22</td>\n      <td>03.01.2020 06:44</td>\n      <td>03.01.2020 06:44</td>\n      <td>0,6</td>\n      <td>Egg</td>\n    </tr>\n    <tr>\n      <th>3</th>\n      <td>2975</td>\n      <td>Die Platte der Stufe ist locker und wackelt. I...</td>\n      <td>Straßen, Fahrrad &amp; Verkehr &gt; Fußwege schadhaft</td>\n      <td>Gottlieber Str. 56A, 78462 Konstanz, Germany</td>\n      <td>Technische Betriebe Konstanz\\r\\n\\r\\n</td>\n      <td>9,161880716</td>\n      <td>47,66302385</td>\n      <td>2020</td>\n      <td>1</td>\n      <td>03.01.2020 10:50</td>\n      <td>06.01.2020 07:58</td>\n      <td>06.01.2020 07:58</td>\n      <td>2,9</td>\n      <td></td>\n    </tr>\n    <tr>\n      <th>4</th>\n      <td>2976</td>\n      <td>Die Platte der Stufe ist locker und wackelt. I...</td>\n      <td>Straßen, Fahrrad &amp; Verkehr &gt; Fußwege schadhaft</td>\n      <td>Gottlieber Str. 56A, 78462 Konstanz, Germany</td>\n      <td>Moderation</td>\n      <td>9,161880716</td>\n      <td>47,66302385</td>\n      <td>2020</td>\n      <td>1</td>\n      <td>03.01.2020 10:50</td>\n      <td></td>\n      <td></td>\n      <td></td>\n      <td></td>\n    </tr>\n  </tbody>\n</table>\n</div>"
     },
     "execution_count": 29,
     "metadata": {},
     "output_type": "execute_result"
    }
   ],
   "source": [
    "path = \"opencity_cfg/\" # specify path here\n",
    "cf = conf.Config(PKG_FOLDER=path)\n",
    "open_city = oc.OpenCity(cf=cf)\n",
    "df = open_city.get_data(data = [\"maengelmelder\"])\n",
    "df.head()"
   ],
   "metadata": {
    "collapsed": false
   }
  },
  {
   "cell_type": "markdown",
   "source": [
    "## Counting deficiencies in the districts"
   ],
   "metadata": {
    "collapsed": false
   }
  },
  {
   "cell_type": "code",
   "execution_count": 28,
   "outputs": [
    {
     "data": {
      "text/plain": "                     2356\nPetershausen-West     275\nKeine Angabe          250\nPetershausen-Ost      146\nWollmatingen          122\nAltstadt              101\nAllmannsdorf           85\nParadies               84\nFürstenberg            79\nKönigsbau              61\nLitzelstetten          58\nIndustriegebiet        47\nStaad                  46\nDettingen              39\nEgg                    22\nDingelsdorf            18\nWallhausen              2\nName: Stadtteil, dtype: int64"
     },
     "execution_count": 28,
     "metadata": {},
     "output_type": "execute_result"
    }
   ],
   "source": [
    "df.Stadtteil.value_counts()"
   ],
   "metadata": {
    "collapsed": false
   }
  },
  {
   "cell_type": "markdown",
   "source": [
    "As you can see, most of the rows don't were not assigned a district. However, we could assign a district with the help of the coordinates (\"lon\" and \"lat\")."
   ],
   "metadata": {
    "collapsed": false
   }
  }
 ],
 "metadata": {
  "kernelspec": {
   "display_name": "Python 3",
   "language": "python",
   "name": "python3"
  },
  "language_info": {
   "codemirror_mode": {
    "name": "ipython",
    "version": 2
   },
   "file_extension": ".py",
   "mimetype": "text/x-python",
   "name": "python",
   "nbconvert_exporter": "python",
   "pygments_lexer": "ipython2",
   "version": "2.7.6"
  }
 },
 "nbformat": 4,
 "nbformat_minor": 0
}
