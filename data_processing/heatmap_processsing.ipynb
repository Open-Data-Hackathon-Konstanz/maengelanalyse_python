{
 "cells": [
  {
   "cell_type": "code",
   "execution_count": 1,
   "metadata": {
    "collapsed": true
   },
   "outputs": [],
   "source": [
    "import pandas as pd"
   ]
  },
  {
   "cell_type": "code",
   "execution_count": 15,
   "outputs": [
    {
     "data": {
      "text/plain": "     ID                                               Text  \\\n0  2972                    Schleyerweg Lampe Nr. 7 defekt    \n1  2973  Zwei Schlaglöcher die immer größer werden. Bez...   \n2  2974  An dem Jungbaum gegenüber Flurweg 5a wurde mit...   \n3  2975  Die Platte der Stufe ist locker und wackelt. I...   \n4  2976  Die Platte der Stufe ist locker und wackelt. I...   \n\n                                        Kategorie  \\\n0            Beleuchtung > Straßenlaternen defekt   \n1     Straßen, Fahrrad & Verkehr > Straßenschäden   \n2                             Hinweise > Hinweise   \n3  Straßen, Fahrrad & Verkehr > Fußwege schadhaft   \n4  Straßen, Fahrrad & Verkehr > Fußwege schadhaft   \n\n                 Automatisch-ermittelte-Adresse  \\\n0        Schleyerweg 6, 78467 Konstanz, Germany   \n1            Seehang 6, 78465 Konstanz, Germany   \n2            Flurweg 3, 78464 Konstanz, Germany   \n3  Gottlieber Str. 56A, 78462 Konstanz, Germany   \n4  Gottlieber Str. 56A, 78462 Konstanz, Germany   \n\n                                 Gruppe       lon        lat  Jahr  Monat  \\\n0                 Stadtwerke Konstanz\\n  9.162128  47.684125  2020      1   \n1   Ortsverwaltung Dettingen-Wallhausen  9.129630  47.747843  2020      1   \n2      Technische Betriebe Konstanz\\n\\n  9.192643  47.692277  2020      1   \n3  Technische Betriebe Konstanz\\r\\n\\r\\n  9.161881  47.663024  2020      1   \n4                            Moderation  9.161881  47.663024  2020      1   \n\n           Gemeldet-am       Freigegeben-am          Geprueft-am  Freigabe-in  \\\n0  2020-01-01 17:06:00  2020-01-01 17:06:00  2020-01-01 17:06:00          0.6   \n1  2020-01-01 18:01:00  2020-01-01 18:01:00  2020-01-01 18:01:00          0.5   \n2  2020-01-02 16:22:00  2020-01-02 16:22:00  2020-01-02 16:22:00          0.6   \n3  2020-01-03 10:50:00  2020-01-03 10:50:00  2020-01-03 10:50:00          2.9   \n4  2020-01-03 10:50:00  2020-01-03 10:50:00  2020-01-03 10:50:00          NaN   \n\n  Stadtteil  \n0       NaN  \n1       NaN  \n2       Egg  \n3       NaN  \n4       NaN  ",
      "text/html": "<div>\n<style scoped>\n    .dataframe tbody tr th:only-of-type {\n        vertical-align: middle;\n    }\n\n    .dataframe tbody tr th {\n        vertical-align: top;\n    }\n\n    .dataframe thead th {\n        text-align: right;\n    }\n</style>\n<table border=\"1\" class=\"dataframe\">\n  <thead>\n    <tr style=\"text-align: right;\">\n      <th></th>\n      <th>ID</th>\n      <th>Text</th>\n      <th>Kategorie</th>\n      <th>Automatisch-ermittelte-Adresse</th>\n      <th>Gruppe</th>\n      <th>lon</th>\n      <th>lat</th>\n      <th>Jahr</th>\n      <th>Monat</th>\n      <th>Gemeldet-am</th>\n      <th>Freigegeben-am</th>\n      <th>Geprueft-am</th>\n      <th>Freigabe-in</th>\n      <th>Stadtteil</th>\n    </tr>\n  </thead>\n  <tbody>\n    <tr>\n      <th>0</th>\n      <td>2972</td>\n      <td>Schleyerweg Lampe Nr. 7 defekt</td>\n      <td>Beleuchtung &gt; Straßenlaternen defekt</td>\n      <td>Schleyerweg 6, 78467 Konstanz, Germany</td>\n      <td>Stadtwerke Konstanz\\n</td>\n      <td>9.162128</td>\n      <td>47.684125</td>\n      <td>2020</td>\n      <td>1</td>\n      <td>2020-01-01 17:06:00</td>\n      <td>2020-01-01 17:06:00</td>\n      <td>2020-01-01 17:06:00</td>\n      <td>0.6</td>\n      <td>NaN</td>\n    </tr>\n    <tr>\n      <th>1</th>\n      <td>2973</td>\n      <td>Zwei Schlaglöcher die immer größer werden. Bez...</td>\n      <td>Straßen, Fahrrad &amp; Verkehr &gt; Straßenschäden</td>\n      <td>Seehang 6, 78465 Konstanz, Germany</td>\n      <td>Ortsverwaltung Dettingen-Wallhausen</td>\n      <td>9.129630</td>\n      <td>47.747843</td>\n      <td>2020</td>\n      <td>1</td>\n      <td>2020-01-01 18:01:00</td>\n      <td>2020-01-01 18:01:00</td>\n      <td>2020-01-01 18:01:00</td>\n      <td>0.5</td>\n      <td>NaN</td>\n    </tr>\n    <tr>\n      <th>2</th>\n      <td>2974</td>\n      <td>An dem Jungbaum gegenüber Flurweg 5a wurde mit...</td>\n      <td>Hinweise &gt; Hinweise</td>\n      <td>Flurweg 3, 78464 Konstanz, Germany</td>\n      <td>Technische Betriebe Konstanz\\n\\n</td>\n      <td>9.192643</td>\n      <td>47.692277</td>\n      <td>2020</td>\n      <td>1</td>\n      <td>2020-01-02 16:22:00</td>\n      <td>2020-01-02 16:22:00</td>\n      <td>2020-01-02 16:22:00</td>\n      <td>0.6</td>\n      <td>Egg</td>\n    </tr>\n    <tr>\n      <th>3</th>\n      <td>2975</td>\n      <td>Die Platte der Stufe ist locker und wackelt. I...</td>\n      <td>Straßen, Fahrrad &amp; Verkehr &gt; Fußwege schadhaft</td>\n      <td>Gottlieber Str. 56A, 78462 Konstanz, Germany</td>\n      <td>Technische Betriebe Konstanz\\r\\n\\r\\n</td>\n      <td>9.161881</td>\n      <td>47.663024</td>\n      <td>2020</td>\n      <td>1</td>\n      <td>2020-01-03 10:50:00</td>\n      <td>2020-01-03 10:50:00</td>\n      <td>2020-01-03 10:50:00</td>\n      <td>2.9</td>\n      <td>NaN</td>\n    </tr>\n    <tr>\n      <th>4</th>\n      <td>2976</td>\n      <td>Die Platte der Stufe ist locker und wackelt. I...</td>\n      <td>Straßen, Fahrrad &amp; Verkehr &gt; Fußwege schadhaft</td>\n      <td>Gottlieber Str. 56A, 78462 Konstanz, Germany</td>\n      <td>Moderation</td>\n      <td>9.161881</td>\n      <td>47.663024</td>\n      <td>2020</td>\n      <td>1</td>\n      <td>2020-01-03 10:50:00</td>\n      <td>2020-01-03 10:50:00</td>\n      <td>2020-01-03 10:50:00</td>\n      <td>NaN</td>\n      <td>NaN</td>\n    </tr>\n  </tbody>\n</table>\n</div>"
     },
     "execution_count": 15,
     "metadata": {},
     "output_type": "execute_result"
    }
   ],
   "source": [
    "df = pd.read_csv(\"../data/data.csv\")\n",
    "df.head()"
   ],
   "metadata": {
    "collapsed": false
   }
  },
  {
   "cell_type": "code",
   "execution_count": 16,
   "outputs": [],
   "source": [
    "df_final = df[[\"ID\",\"lat\", \"lon\", \"Gemeldet-am\", \"Geprueft-am\"]]\n",
    "df_final = df_final.rename(columns={'ID': 'id', \"Gemeldet-am\": 'reported', \"Geprueft-am\": \"checked\"})\n",
    "df_final.to_csv(\"../data/heatmap.csv\")"
   ],
   "metadata": {
    "collapsed": false
   }
  }
 ],
 "metadata": {
  "kernelspec": {
   "display_name": "Python 3",
   "language": "python",
   "name": "python3"
  },
  "language_info": {
   "codemirror_mode": {
    "name": "ipython",
    "version": 2
   },
   "file_extension": ".py",
   "mimetype": "text/x-python",
   "name": "python",
   "nbconvert_exporter": "python",
   "pygments_lexer": "ipython2",
   "version": "2.7.6"
  }
 },
 "nbformat": 4,
 "nbformat_minor": 0
}
