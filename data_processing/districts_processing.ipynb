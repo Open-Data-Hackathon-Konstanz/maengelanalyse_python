{
 "cells": [
  {
   "cell_type": "code",
   "execution_count": 147,
   "metadata": {
    "collapsed": true
   },
   "outputs": [],
   "source": [
    "import numpy as np\n",
    "import pandas as pd"
   ]
  },
  {
   "cell_type": "code",
   "execution_count": 148,
   "outputs": [],
   "source": [
    "df = pd.read_csv(\"../data/raw/maengel_districts_raw.csv\")\n",
    "df_cat = pd.read_excel(\"../data/raw/maengel_cat.xlsx\", sheet_name=\"Maengelmelder_2020_10-2022_Ober\")\n",
    "df_orig = pd.read_csv(\"../data/data.csv\")"
   ],
   "metadata": {
    "collapsed": false
   }
  },
  {
   "cell_type": "code",
   "execution_count": 149,
   "outputs": [
    {
     "data": {
      "text/plain": "     id                                        description  \\\n0  3470  alle Straßenlaternen um das Schnetztor defekt....   \n1  3475  Bei Nässe spiegelglatte Stelle. Ich bin am Don...   \n2  3476  Warnschild des Zebrastreifens zum x-ten mal um...   \n3  3495  Bei der Fussgängerampel direkt vor dem Taschen...   \n4  3583  Hallo,\\n\\nder Spielplatz an der Kreuzlingerstr...   \n\n                                            category  \\\n0               Beleuchtung > Straßenlaternen defekt   \n1                                Hinweise > Hinweise   \n2  Straßen, Fahrrad & Verkehr > Schilder unkenntlich   \n3          Straßen, Fahrrad & Verkehr > Ampel defekt   \n4  Öffentliche Orte/Ufer > Spielplätze schadhaft ...   \n\n                                        address  \\\n0       Obere Laube 66, 78462 Konstanz, Germany   \n1      Hussenstraße 24, 78462 Konstanz, Germany   \n2    Emmishofer Str. 7, 78462 Konstanz, Germany   \n3   Rosgartenstraße 31, 78462 Konstanz, Germany   \n4  Kreuzlinger Str. 26, 78462 Konstanz, Germany   \n\n                             group_       lon        lat  year  month  \\\n0             Stadtwerke Konstanz\\n  9.170475  47.658698  2020      6   \n1  Technische Betriebe Konstanz\\n\\n  9.172454  47.659835  2020      6   \n2  Technische Betriebe Konstanz\\n\\n  9.170046  47.656598  2020      6   \n3                        Tiefbauamt  9.174359  47.658116  2020      6   \n4  Technische Betriebe Konstanz\\n\\n  9.171569  47.657161  2020      6   \n\n     reported    approved     checked  approved_in           district  \n0  2020/06/06  2020/06/06  2020/06/06          1.2  Konstanz-Altstadt  \n1  2020/06/07  2020/06/07  2020/06/07          0.4  Konstanz-Altstadt  \n2  2020/06/08  2020/06/08  2020/06/08          0.6  Konstanz-Altstadt  \n3  2020/06/13  2020/06/13  2020/06/13          1.6  Konstanz-Altstadt  \n4  2020/06/29  2020/06/29  2020/06/29          0.1  Konstanz-Altstadt  ",
      "text/html": "<div>\n<style scoped>\n    .dataframe tbody tr th:only-of-type {\n        vertical-align: middle;\n    }\n\n    .dataframe tbody tr th {\n        vertical-align: top;\n    }\n\n    .dataframe thead th {\n        text-align: right;\n    }\n</style>\n<table border=\"1\" class=\"dataframe\">\n  <thead>\n    <tr style=\"text-align: right;\">\n      <th></th>\n      <th>id</th>\n      <th>description</th>\n      <th>category</th>\n      <th>address</th>\n      <th>group_</th>\n      <th>lon</th>\n      <th>lat</th>\n      <th>year</th>\n      <th>month</th>\n      <th>reported</th>\n      <th>approved</th>\n      <th>checked</th>\n      <th>approved_in</th>\n      <th>district</th>\n    </tr>\n  </thead>\n  <tbody>\n    <tr>\n      <th>0</th>\n      <td>3470</td>\n      <td>alle Straßenlaternen um das Schnetztor defekt....</td>\n      <td>Beleuchtung &gt; Straßenlaternen defekt</td>\n      <td>Obere Laube 66, 78462 Konstanz, Germany</td>\n      <td>Stadtwerke Konstanz\\n</td>\n      <td>9.170475</td>\n      <td>47.658698</td>\n      <td>2020</td>\n      <td>6</td>\n      <td>2020/06/06</td>\n      <td>2020/06/06</td>\n      <td>2020/06/06</td>\n      <td>1.2</td>\n      <td>Konstanz-Altstadt</td>\n    </tr>\n    <tr>\n      <th>1</th>\n      <td>3475</td>\n      <td>Bei Nässe spiegelglatte Stelle. Ich bin am Don...</td>\n      <td>Hinweise &gt; Hinweise</td>\n      <td>Hussenstraße 24, 78462 Konstanz, Germany</td>\n      <td>Technische Betriebe Konstanz\\n\\n</td>\n      <td>9.172454</td>\n      <td>47.659835</td>\n      <td>2020</td>\n      <td>6</td>\n      <td>2020/06/07</td>\n      <td>2020/06/07</td>\n      <td>2020/06/07</td>\n      <td>0.4</td>\n      <td>Konstanz-Altstadt</td>\n    </tr>\n    <tr>\n      <th>2</th>\n      <td>3476</td>\n      <td>Warnschild des Zebrastreifens zum x-ten mal um...</td>\n      <td>Straßen, Fahrrad &amp; Verkehr &gt; Schilder unkenntlich</td>\n      <td>Emmishofer Str. 7, 78462 Konstanz, Germany</td>\n      <td>Technische Betriebe Konstanz\\n\\n</td>\n      <td>9.170046</td>\n      <td>47.656598</td>\n      <td>2020</td>\n      <td>6</td>\n      <td>2020/06/08</td>\n      <td>2020/06/08</td>\n      <td>2020/06/08</td>\n      <td>0.6</td>\n      <td>Konstanz-Altstadt</td>\n    </tr>\n    <tr>\n      <th>3</th>\n      <td>3495</td>\n      <td>Bei der Fussgängerampel direkt vor dem Taschen...</td>\n      <td>Straßen, Fahrrad &amp; Verkehr &gt; Ampel defekt</td>\n      <td>Rosgartenstraße 31, 78462 Konstanz, Germany</td>\n      <td>Tiefbauamt</td>\n      <td>9.174359</td>\n      <td>47.658116</td>\n      <td>2020</td>\n      <td>6</td>\n      <td>2020/06/13</td>\n      <td>2020/06/13</td>\n      <td>2020/06/13</td>\n      <td>1.6</td>\n      <td>Konstanz-Altstadt</td>\n    </tr>\n    <tr>\n      <th>4</th>\n      <td>3583</td>\n      <td>Hallo,\\n\\nder Spielplatz an der Kreuzlingerstr...</td>\n      <td>Öffentliche Orte/Ufer &gt; Spielplätze schadhaft ...</td>\n      <td>Kreuzlinger Str. 26, 78462 Konstanz, Germany</td>\n      <td>Technische Betriebe Konstanz\\n\\n</td>\n      <td>9.171569</td>\n      <td>47.657161</td>\n      <td>2020</td>\n      <td>6</td>\n      <td>2020/06/29</td>\n      <td>2020/06/29</td>\n      <td>2020/06/29</td>\n      <td>0.1</td>\n      <td>Konstanz-Altstadt</td>\n    </tr>\n  </tbody>\n</table>\n</div>"
     },
     "execution_count": 149,
     "metadata": {},
     "output_type": "execute_result"
    }
   ],
   "source": [
    "df.drop(\"district\", axis=1, inplace=True)\n",
    "df.rename(columns={'stadtteil': 'district'}, inplace=True)\n",
    "df_cat.rename(columns={'ID': 'id'}, inplace=True)\n",
    "df.head()"
   ],
   "metadata": {
    "collapsed": false
   }
  },
  {
   "cell_type": "code",
   "execution_count": 150,
   "outputs": [
    {
     "data": {
      "text/plain": "     id                                        description  \\\n0  3470  alle Straßenlaternen um das Schnetztor defekt....   \n1  3475  Bei Nässe spiegelglatte Stelle. Ich bin am Don...   \n2  3476  Warnschild des Zebrastreifens zum x-ten mal um...   \n3  3495  Bei der Fussgängerampel direkt vor dem Taschen...   \n4  3583  Hallo,\\n\\nder Spielplatz an der Kreuzlingerstr...   \n\n                                            category  \\\n0               Beleuchtung > Straßenlaternen defekt   \n1                                Hinweise > Hinweise   \n2  Straßen, Fahrrad & Verkehr > Schilder unkenntlich   \n3          Straßen, Fahrrad & Verkehr > Ampel defekt   \n4  Öffentliche Orte/Ufer > Spielplätze schadhaft ...   \n\n                                        address  \\\n0       Obere Laube 66, 78462 Konstanz, Germany   \n1      Hussenstraße 24, 78462 Konstanz, Germany   \n2    Emmishofer Str. 7, 78462 Konstanz, Germany   \n3   Rosgartenstraße 31, 78462 Konstanz, Germany   \n4  Kreuzlinger Str. 26, 78462 Konstanz, Germany   \n\n                             group_       lon        lat  year  month  \\\n0             Stadtwerke Konstanz\\n  9.170475  47.658698  2020      6   \n1  Technische Betriebe Konstanz\\n\\n  9.172454  47.659835  2020      6   \n2  Technische Betriebe Konstanz\\n\\n  9.170046  47.656598  2020      6   \n3                        Tiefbauamt  9.174359  47.658116  2020      6   \n4  Technische Betriebe Konstanz\\n\\n  9.171569  47.657161  2020      6   \n\n     reported    approved     checked  approved_in  district  \n0  2020/06/06  2020/06/06  2020/06/06          1.2  Altstadt  \n1  2020/06/07  2020/06/07  2020/06/07          0.4  Altstadt  \n2  2020/06/08  2020/06/08  2020/06/08          0.6  Altstadt  \n3  2020/06/13  2020/06/13  2020/06/13          1.6  Altstadt  \n4  2020/06/29  2020/06/29  2020/06/29          0.1  Altstadt  ",
      "text/html": "<div>\n<style scoped>\n    .dataframe tbody tr th:only-of-type {\n        vertical-align: middle;\n    }\n\n    .dataframe tbody tr th {\n        vertical-align: top;\n    }\n\n    .dataframe thead th {\n        text-align: right;\n    }\n</style>\n<table border=\"1\" class=\"dataframe\">\n  <thead>\n    <tr style=\"text-align: right;\">\n      <th></th>\n      <th>id</th>\n      <th>description</th>\n      <th>category</th>\n      <th>address</th>\n      <th>group_</th>\n      <th>lon</th>\n      <th>lat</th>\n      <th>year</th>\n      <th>month</th>\n      <th>reported</th>\n      <th>approved</th>\n      <th>checked</th>\n      <th>approved_in</th>\n      <th>district</th>\n    </tr>\n  </thead>\n  <tbody>\n    <tr>\n      <th>0</th>\n      <td>3470</td>\n      <td>alle Straßenlaternen um das Schnetztor defekt....</td>\n      <td>Beleuchtung &gt; Straßenlaternen defekt</td>\n      <td>Obere Laube 66, 78462 Konstanz, Germany</td>\n      <td>Stadtwerke Konstanz\\n</td>\n      <td>9.170475</td>\n      <td>47.658698</td>\n      <td>2020</td>\n      <td>6</td>\n      <td>2020/06/06</td>\n      <td>2020/06/06</td>\n      <td>2020/06/06</td>\n      <td>1.2</td>\n      <td>Altstadt</td>\n    </tr>\n    <tr>\n      <th>1</th>\n      <td>3475</td>\n      <td>Bei Nässe spiegelglatte Stelle. Ich bin am Don...</td>\n      <td>Hinweise &gt; Hinweise</td>\n      <td>Hussenstraße 24, 78462 Konstanz, Germany</td>\n      <td>Technische Betriebe Konstanz\\n\\n</td>\n      <td>9.172454</td>\n      <td>47.659835</td>\n      <td>2020</td>\n      <td>6</td>\n      <td>2020/06/07</td>\n      <td>2020/06/07</td>\n      <td>2020/06/07</td>\n      <td>0.4</td>\n      <td>Altstadt</td>\n    </tr>\n    <tr>\n      <th>2</th>\n      <td>3476</td>\n      <td>Warnschild des Zebrastreifens zum x-ten mal um...</td>\n      <td>Straßen, Fahrrad &amp; Verkehr &gt; Schilder unkenntlich</td>\n      <td>Emmishofer Str. 7, 78462 Konstanz, Germany</td>\n      <td>Technische Betriebe Konstanz\\n\\n</td>\n      <td>9.170046</td>\n      <td>47.656598</td>\n      <td>2020</td>\n      <td>6</td>\n      <td>2020/06/08</td>\n      <td>2020/06/08</td>\n      <td>2020/06/08</td>\n      <td>0.6</td>\n      <td>Altstadt</td>\n    </tr>\n    <tr>\n      <th>3</th>\n      <td>3495</td>\n      <td>Bei der Fussgängerampel direkt vor dem Taschen...</td>\n      <td>Straßen, Fahrrad &amp; Verkehr &gt; Ampel defekt</td>\n      <td>Rosgartenstraße 31, 78462 Konstanz, Germany</td>\n      <td>Tiefbauamt</td>\n      <td>9.174359</td>\n      <td>47.658116</td>\n      <td>2020</td>\n      <td>6</td>\n      <td>2020/06/13</td>\n      <td>2020/06/13</td>\n      <td>2020/06/13</td>\n      <td>1.6</td>\n      <td>Altstadt</td>\n    </tr>\n    <tr>\n      <th>4</th>\n      <td>3583</td>\n      <td>Hallo,\\n\\nder Spielplatz an der Kreuzlingerstr...</td>\n      <td>Öffentliche Orte/Ufer &gt; Spielplätze schadhaft ...</td>\n      <td>Kreuzlinger Str. 26, 78462 Konstanz, Germany</td>\n      <td>Technische Betriebe Konstanz\\n\\n</td>\n      <td>9.171569</td>\n      <td>47.657161</td>\n      <td>2020</td>\n      <td>6</td>\n      <td>2020/06/29</td>\n      <td>2020/06/29</td>\n      <td>2020/06/29</td>\n      <td>0.1</td>\n      <td>Altstadt</td>\n    </tr>\n  </tbody>\n</table>\n</div>"
     },
     "execution_count": 150,
     "metadata": {},
     "output_type": "execute_result"
    }
   ],
   "source": [
    "def remove_konstanz(x):\n",
    "    if isinstance(x, str):\n",
    "        x = x.replace(\"Konstanz-\", \"\")\n",
    "    return x\n",
    "\n",
    "df.district = df.district.apply(remove_konstanz)\n",
    "df.head()"
   ],
   "metadata": {
    "collapsed": false
   }
  },
  {
   "cell_type": "code",
   "execution_count": 151,
   "outputs": [
    {
     "data": {
      "text/plain": "        id                                               Text  \\\n0     2972                    Schleyerweg Lampe Nr. 7 defekt    \n1     2973  Zwei Schlaglöcher die immer größer werden. Bez...   \n2     2974  An dem Jungbaum gegenüber Flurweg 5a wurde mit...   \n3     2975  Die Platte der Stufe ist locker und wackelt. I...   \n4     2976  Die Platte der Stufe ist locker und wackelt. I...   \n...    ...                                                ...   \n3786  6758  Im Herosepark, zwischen Fahrradbrücke und Pump...   \n3787  6759  Auf dem Gehweg in der Max-Stromeyer-Straße lie...   \n3788  6760  In der Max-Stromeyer-Straße steht ein Pfosten ...   \n3789  6761  demoliertes Fahrrad, Ohne Mäntel, Helm hängt d...   \n3790  6762                      Weißglas Container überfüllt    \n\n                                           Kategorie  \\\n0               Beleuchtung > Straßenlaternen defekt   \n1        Straßen, Fahrrad & Verkehr > Straßenschäden   \n2                                Hinweise > Hinweise   \n3     Straßen, Fahrrad & Verkehr > Fußwege schadhaft   \n4     Straßen, Fahrrad & Verkehr > Fußwege schadhaft   \n...                                              ...   \n3786                             Hinweise > Hinweise   \n3787                Müll/Sauberkeit > Illegaler Müll   \n3788                Müll/Sauberkeit > Illegaler Müll   \n3789   Straßen, Fahrrad & Verkehr > Fahrrad gefunden   \n3790    Müll/Sauberkeit > Altglascontainer überfüllt   \n\n                         Automatisch-ermittelte-Adresse  \\\n0                Schleyerweg 6, 78467 Konstanz, Germany   \n1                    Seehang 6, 78465 Konstanz, Germany   \n2                    Flurweg 3, 78464 Konstanz, Germany   \n3          Gottlieber Str. 56A, 78462 Konstanz, Germany   \n4          Gottlieber Str. 56A, 78462 Konstanz, Germany   \n...                                                 ...   \n3786                                                NaN   \n3787  Max-Stromeyer-Straße 120, 78467 Konstanz, Germany   \n3788    Max-Stromeyer-Straße 4, 78467 Konstanz, Germany   \n3789  Zähringerplatz 7 Kaufland Konstanz-Petershause...   \n3790                 Tannenhof, 78464 Konstanz, Germany   \n\n                                                 Gruppe       lon        lat  \\\n0                                 Stadtwerke Konstanz\\n  9.162128  47.684125   \n1                   Ortsverwaltung Dettingen-Wallhausen  9.129630  47.747843   \n2                      Technische Betriebe Konstanz\\n\\n  9.192643  47.692277   \n3        Technische Betriebe Konstanz_x000D_\\n_x000D_\\n  9.161881  47.663024   \n4                                            Moderation  9.161881  47.663024   \n...                                                 ...       ...        ...   \n3786     Technische Betriebe Konstanz_x000D_\\n_x000D_\\n       NaN        NaN   \n3787  Bürgeramt/Straßenverkehrswesen_x000D_\\n_x000D_...  9.165003  47.674701   \n3788  Bürgeramt/Straßenverkehrswesen_x000D_\\n_x000D_...  9.169710  47.673324   \n3789                      Bürgeramt/Bürgerbüro_x000D_\\n  9.183167  47.672469   \n3790                       Entsorgungsbetriebe Konstanz  9.197216  47.674890   \n\n      Jahr  Monat         Gemeldet-am      Freigegeben-am         Geprueft-am  \\\n0     2020      1 2020-01-01 17:06:00 2020-01-02 06:52:00 2020-01-02 06:52:00   \n1     2020      1 2020-01-01 18:01:00 2020-01-02 06:53:00 2020-01-02 06:53:00   \n2     2020      1 2020-01-02 16:22:00 2020-01-03 06:44:00 2020-01-03 06:44:00   \n3     2020      1 2020-01-03 10:50:00 2020-01-06 07:58:00 2020-01-06 07:58:00   \n4     2020      1 2020-01-03 10:50:00                 NaT                 NaT   \n...    ...    ...                 ...                 ...                 ...   \n3786  2022     10 2022-10-31 08:25:00 2022-10-31 08:35:00 2022-10-31 08:35:00   \n3787  2022     10 2022-10-31 08:27:00 2022-10-31 08:35:00 2022-10-31 08:35:00   \n3788  2022     10 2022-10-31 08:29:00 2022-10-31 08:36:00 2022-10-31 08:36:00   \n3789  2022     10 2022-10-31 10:42:00 2022-10-31 13:24:00 2022-10-31 13:24:00   \n3790  2022     10 2022-10-31 12:54:00 2022-10-31 13:25:00 2022-10-31 13:25:00   \n\n      Freigabe-in          Stadtteil               Oberkategorie  \\\n0             0.6                NaN                 Beleuchtung   \n1             0.5                NaN  Straßen, Fahrrad & Verkehr   \n2             0.6                Egg                    Hinweise   \n3             2.9                NaN  Straßen, Fahrrad & Verkehr   \n4             NaN                NaN  Straßen, Fahrrad & Verkehr   \n...           ...                ...                         ...   \n3786          0.0                NaN                    Hinweise   \n3787          0.0  Petershausen-West             Müll/Sauberkeit   \n3788          0.0  Petershausen-West             Müll/Sauberkeit   \n3789          0.1  Petershausen-West  Straßen, Fahrrad & Verkehr   \n3790          0.0       Allmannsdorf             Müll/Sauberkeit   \n\n                   Unterkategorie  \n0          Straßenlaternen defekt  \n1                  Straßenschäden  \n2                        Hinweise  \n3               Fußwege schadhaft  \n4               Fußwege schadhaft  \n...                           ...  \n3786                     Hinweise  \n3787               Illegaler Müll  \n3788               Illegaler Müll  \n3789             Fahrrad gefunden  \n3790   Altglascontainer überfüllt  \n\n[3791 rows x 16 columns]",
      "text/html": "<div>\n<style scoped>\n    .dataframe tbody tr th:only-of-type {\n        vertical-align: middle;\n    }\n\n    .dataframe tbody tr th {\n        vertical-align: top;\n    }\n\n    .dataframe thead th {\n        text-align: right;\n    }\n</style>\n<table border=\"1\" class=\"dataframe\">\n  <thead>\n    <tr style=\"text-align: right;\">\n      <th></th>\n      <th>id</th>\n      <th>Text</th>\n      <th>Kategorie</th>\n      <th>Automatisch-ermittelte-Adresse</th>\n      <th>Gruppe</th>\n      <th>lon</th>\n      <th>lat</th>\n      <th>Jahr</th>\n      <th>Monat</th>\n      <th>Gemeldet-am</th>\n      <th>Freigegeben-am</th>\n      <th>Geprueft-am</th>\n      <th>Freigabe-in</th>\n      <th>Stadtteil</th>\n      <th>Oberkategorie</th>\n      <th>Unterkategorie</th>\n    </tr>\n  </thead>\n  <tbody>\n    <tr>\n      <th>0</th>\n      <td>2972</td>\n      <td>Schleyerweg Lampe Nr. 7 defekt</td>\n      <td>Beleuchtung &gt; Straßenlaternen defekt</td>\n      <td>Schleyerweg 6, 78467 Konstanz, Germany</td>\n      <td>Stadtwerke Konstanz\\n</td>\n      <td>9.162128</td>\n      <td>47.684125</td>\n      <td>2020</td>\n      <td>1</td>\n      <td>2020-01-01 17:06:00</td>\n      <td>2020-01-02 06:52:00</td>\n      <td>2020-01-02 06:52:00</td>\n      <td>0.6</td>\n      <td>NaN</td>\n      <td>Beleuchtung</td>\n      <td>Straßenlaternen defekt</td>\n    </tr>\n    <tr>\n      <th>1</th>\n      <td>2973</td>\n      <td>Zwei Schlaglöcher die immer größer werden. Bez...</td>\n      <td>Straßen, Fahrrad &amp; Verkehr &gt; Straßenschäden</td>\n      <td>Seehang 6, 78465 Konstanz, Germany</td>\n      <td>Ortsverwaltung Dettingen-Wallhausen</td>\n      <td>9.129630</td>\n      <td>47.747843</td>\n      <td>2020</td>\n      <td>1</td>\n      <td>2020-01-01 18:01:00</td>\n      <td>2020-01-02 06:53:00</td>\n      <td>2020-01-02 06:53:00</td>\n      <td>0.5</td>\n      <td>NaN</td>\n      <td>Straßen, Fahrrad &amp; Verkehr</td>\n      <td>Straßenschäden</td>\n    </tr>\n    <tr>\n      <th>2</th>\n      <td>2974</td>\n      <td>An dem Jungbaum gegenüber Flurweg 5a wurde mit...</td>\n      <td>Hinweise &gt; Hinweise</td>\n      <td>Flurweg 3, 78464 Konstanz, Germany</td>\n      <td>Technische Betriebe Konstanz\\n\\n</td>\n      <td>9.192643</td>\n      <td>47.692277</td>\n      <td>2020</td>\n      <td>1</td>\n      <td>2020-01-02 16:22:00</td>\n      <td>2020-01-03 06:44:00</td>\n      <td>2020-01-03 06:44:00</td>\n      <td>0.6</td>\n      <td>Egg</td>\n      <td>Hinweise</td>\n      <td>Hinweise</td>\n    </tr>\n    <tr>\n      <th>3</th>\n      <td>2975</td>\n      <td>Die Platte der Stufe ist locker und wackelt. I...</td>\n      <td>Straßen, Fahrrad &amp; Verkehr &gt; Fußwege schadhaft</td>\n      <td>Gottlieber Str. 56A, 78462 Konstanz, Germany</td>\n      <td>Technische Betriebe Konstanz_x000D_\\n_x000D_\\n</td>\n      <td>9.161881</td>\n      <td>47.663024</td>\n      <td>2020</td>\n      <td>1</td>\n      <td>2020-01-03 10:50:00</td>\n      <td>2020-01-06 07:58:00</td>\n      <td>2020-01-06 07:58:00</td>\n      <td>2.9</td>\n      <td>NaN</td>\n      <td>Straßen, Fahrrad &amp; Verkehr</td>\n      <td>Fußwege schadhaft</td>\n    </tr>\n    <tr>\n      <th>4</th>\n      <td>2976</td>\n      <td>Die Platte der Stufe ist locker und wackelt. I...</td>\n      <td>Straßen, Fahrrad &amp; Verkehr &gt; Fußwege schadhaft</td>\n      <td>Gottlieber Str. 56A, 78462 Konstanz, Germany</td>\n      <td>Moderation</td>\n      <td>9.161881</td>\n      <td>47.663024</td>\n      <td>2020</td>\n      <td>1</td>\n      <td>2020-01-03 10:50:00</td>\n      <td>NaT</td>\n      <td>NaT</td>\n      <td>NaN</td>\n      <td>NaN</td>\n      <td>Straßen, Fahrrad &amp; Verkehr</td>\n      <td>Fußwege schadhaft</td>\n    </tr>\n    <tr>\n      <th>...</th>\n      <td>...</td>\n      <td>...</td>\n      <td>...</td>\n      <td>...</td>\n      <td>...</td>\n      <td>...</td>\n      <td>...</td>\n      <td>...</td>\n      <td>...</td>\n      <td>...</td>\n      <td>...</td>\n      <td>...</td>\n      <td>...</td>\n      <td>...</td>\n      <td>...</td>\n      <td>...</td>\n    </tr>\n    <tr>\n      <th>3786</th>\n      <td>6758</td>\n      <td>Im Herosepark, zwischen Fahrradbrücke und Pump...</td>\n      <td>Hinweise &gt; Hinweise</td>\n      <td>NaN</td>\n      <td>Technische Betriebe Konstanz_x000D_\\n_x000D_\\n</td>\n      <td>NaN</td>\n      <td>NaN</td>\n      <td>2022</td>\n      <td>10</td>\n      <td>2022-10-31 08:25:00</td>\n      <td>2022-10-31 08:35:00</td>\n      <td>2022-10-31 08:35:00</td>\n      <td>0.0</td>\n      <td>NaN</td>\n      <td>Hinweise</td>\n      <td>Hinweise</td>\n    </tr>\n    <tr>\n      <th>3787</th>\n      <td>6759</td>\n      <td>Auf dem Gehweg in der Max-Stromeyer-Straße lie...</td>\n      <td>Müll/Sauberkeit &gt; Illegaler Müll</td>\n      <td>Max-Stromeyer-Straße 120, 78467 Konstanz, Germany</td>\n      <td>Bürgeramt/Straßenverkehrswesen_x000D_\\n_x000D_...</td>\n      <td>9.165003</td>\n      <td>47.674701</td>\n      <td>2022</td>\n      <td>10</td>\n      <td>2022-10-31 08:27:00</td>\n      <td>2022-10-31 08:35:00</td>\n      <td>2022-10-31 08:35:00</td>\n      <td>0.0</td>\n      <td>Petershausen-West</td>\n      <td>Müll/Sauberkeit</td>\n      <td>Illegaler Müll</td>\n    </tr>\n    <tr>\n      <th>3788</th>\n      <td>6760</td>\n      <td>In der Max-Stromeyer-Straße steht ein Pfosten ...</td>\n      <td>Müll/Sauberkeit &gt; Illegaler Müll</td>\n      <td>Max-Stromeyer-Straße 4, 78467 Konstanz, Germany</td>\n      <td>Bürgeramt/Straßenverkehrswesen_x000D_\\n_x000D_...</td>\n      <td>9.169710</td>\n      <td>47.673324</td>\n      <td>2022</td>\n      <td>10</td>\n      <td>2022-10-31 08:29:00</td>\n      <td>2022-10-31 08:36:00</td>\n      <td>2022-10-31 08:36:00</td>\n      <td>0.0</td>\n      <td>Petershausen-West</td>\n      <td>Müll/Sauberkeit</td>\n      <td>Illegaler Müll</td>\n    </tr>\n    <tr>\n      <th>3789</th>\n      <td>6761</td>\n      <td>demoliertes Fahrrad, Ohne Mäntel, Helm hängt d...</td>\n      <td>Straßen, Fahrrad &amp; Verkehr &gt; Fahrrad gefunden</td>\n      <td>Zähringerplatz 7 Kaufland Konstanz-Petershause...</td>\n      <td>Bürgeramt/Bürgerbüro_x000D_\\n</td>\n      <td>9.183167</td>\n      <td>47.672469</td>\n      <td>2022</td>\n      <td>10</td>\n      <td>2022-10-31 10:42:00</td>\n      <td>2022-10-31 13:24:00</td>\n      <td>2022-10-31 13:24:00</td>\n      <td>0.1</td>\n      <td>Petershausen-West</td>\n      <td>Straßen, Fahrrad &amp; Verkehr</td>\n      <td>Fahrrad gefunden</td>\n    </tr>\n    <tr>\n      <th>3790</th>\n      <td>6762</td>\n      <td>Weißglas Container überfüllt</td>\n      <td>Müll/Sauberkeit &gt; Altglascontainer überfüllt</td>\n      <td>Tannenhof, 78464 Konstanz, Germany</td>\n      <td>Entsorgungsbetriebe Konstanz</td>\n      <td>9.197216</td>\n      <td>47.674890</td>\n      <td>2022</td>\n      <td>10</td>\n      <td>2022-10-31 12:54:00</td>\n      <td>2022-10-31 13:25:00</td>\n      <td>2022-10-31 13:25:00</td>\n      <td>0.0</td>\n      <td>Allmannsdorf</td>\n      <td>Müll/Sauberkeit</td>\n      <td>Altglascontainer überfüllt</td>\n    </tr>\n  </tbody>\n</table>\n<p>3791 rows × 16 columns</p>\n</div>"
     },
     "execution_count": 151,
     "metadata": {},
     "output_type": "execute_result"
    }
   ],
   "source": [
    "df_cat"
   ],
   "metadata": {
    "collapsed": false
   }
  },
  {
   "cell_type": "code",
   "execution_count": 152,
   "outputs": [],
   "source": [
    "df_cat = df_cat[[\"id\",\"Oberkategorie\", \"Unterkategorie\"]]\n",
    "df = df.merge(df_cat, how='left', on=\"id\")\n",
    "df.rename(columns={'Oberkategorie': 'main_cat', \"Unterkategorie\": \"sub_cat\"}, inplace=True)\n",
    "df.drop(\"category\", axis=1, inplace=True)"
   ],
   "metadata": {
    "collapsed": false
   }
  },
  {
   "cell_type": "code",
   "execution_count": 153,
   "outputs": [],
   "source": [
    "df_orig = df_orig[[\"ID\", \"Gemeldet-am\", \"Geprueft-am\", \"Freigegeben-am\"]]\n",
    "df_orig.rename(columns={\"ID\":\"id\"}, inplace=True)"
   ],
   "metadata": {
    "collapsed": false
   }
  },
  {
   "cell_type": "code",
   "execution_count": 154,
   "outputs": [],
   "source": [
    "df = df.merge(df_orig, on=\"id\")"
   ],
   "metadata": {
    "collapsed": false
   }
  },
  {
   "cell_type": "code",
   "execution_count": 155,
   "outputs": [
    {
     "data": {
      "text/plain": "Index(['id', 'description', 'address', 'group_', 'lon', 'lat', 'year', 'month',\n       'reported', 'approved', 'checked', 'approved_in', 'district',\n       'main_cat', 'sub_cat', 'Gemeldet-am', 'Geprueft-am', 'Freigegeben-am'],\n      dtype='object')"
     },
     "execution_count": 155,
     "metadata": {},
     "output_type": "execute_result"
    }
   ],
   "source": [
    "df.columns"
   ],
   "metadata": {
    "collapsed": false
   }
  },
  {
   "cell_type": "code",
   "execution_count": 156,
   "outputs": [],
   "source": [
    "df[\"checked\"] = df[\"Geprueft-am\"]\n",
    "df[\"approved\"] = df[\"Freigegeben-am\"]\n",
    "df[\"reported\"] = df[\"Gemeldet-am\"]\n",
    "df.drop(\"Gemeldet-am\", axis=1, inplace=True)\n",
    "df.drop(\"Freigegeben-am\", axis=1, inplace=True)\n",
    "df.drop(\"Geprueft-am\", axis=1, inplace=True)"
   ],
   "metadata": {
    "collapsed": false
   }
  },
  {
   "cell_type": "code",
   "execution_count": 157,
   "outputs": [
    {
     "data": {
      "text/plain": "        id                                        description  \\\n0     3470  alle Straßenlaternen um das Schnetztor defekt....   \n1     3475  Bei Nässe spiegelglatte Stelle. Ich bin am Don...   \n2     3476  Warnschild des Zebrastreifens zum x-ten mal um...   \n3     3495  Bei der Fussgängerampel direkt vor dem Taschen...   \n4     3583  Hallo,\\n\\nder Spielplatz an der Kreuzlingerstr...   \n...    ...                                                ...   \n3786  6746  Ecke Petershauserstrasse 30 /Marin-Venedey-Str...   \n3787  6753  Der Gehweg bist zur hälfte mit Pflanzenwuchs b...   \n3788  6755  vor dem Haus Ebertplatz 5 stehen vergessene, t...   \n3789  6759  Auf dem Gehweg in der Max-Stromeyer-Straße lie...   \n3790  6760  In der Max-Stromeyer-Straße steht ein Pfosten ...   \n\n                                                address  \\\n0               Obere Laube 66, 78462 Konstanz, Germany   \n1              Hussenstraße 24, 78462 Konstanz, Germany   \n2            Emmishofer Str. 7, 78462 Konstanz, Germany   \n3           Rosgartenstraße 31, 78462 Konstanz, Germany   \n4          Kreuzlinger Str. 26, 78462 Konstanz, Germany   \n...                                                 ...   \n3786  Petershauser Str. 28, 78467 Konstanz, Deutschland   \n3787      Petershauser Str. 38, 78467 Konstanz, Germany   \n3788    Sankt-Gebhard-Straße 1, 78467 Konstanz, Germany   \n3789  Max-Stromeyer-Straße 120, 78467 Konstanz, Germany   \n3790    Max-Stromeyer-Straße 4, 78467 Konstanz, Germany   \n\n                                    group_       lon        lat  year  month  \\\n0                    Stadtwerke Konstanz\\n  9.170475  47.658698  2020      6   \n1         Technische Betriebe Konstanz\\n\\n  9.172454  47.659835  2020      6   \n2         Technische Betriebe Konstanz\\n\\n  9.170046  47.656598  2020      6   \n3                               Tiefbauamt  9.174359  47.658116  2020      6   \n4         Technische Betriebe Konstanz\\n\\n  9.171569  47.657161  2020      6   \n...                                    ...       ...        ...   ...    ...   \n3786      Technische Betriebe Konstanz\\n\\n  9.177783  47.670776  2022     10   \n3787  Bürgeramt/Straßenverkehrswesen\\n\\n\\n  9.178919  47.671660  2022     10   \n3788      Technische Betriebe Konstanz\\n\\n  9.176019  47.670331  2022     10   \n3789  Bürgeramt/Straßenverkehrswesen\\n\\n\\n  9.165003  47.674701  2022     10   \n3790  Bürgeramt/Straßenverkehrswesen\\n\\n\\n  9.169710  47.673324  2022     10   \n\n                 reported             approved              checked  \\\n0     2020-06-06 23:48:00  2020-06-08 05:31:00  2020-06-08 05:31:00   \n1     2020-06-07 19:26:00  2020-06-08 05:33:00  2020-06-08 05:33:00   \n2     2020-06-08 17:08:00  2020-06-09 08:25:00  2020-06-09 08:25:00   \n3     2020-06-13 18:23:00  2020-06-15 07:50:00  2020-06-15 07:50:00   \n4     2020-06-29 11:46:00  2020-06-29 14:04:00  2020-06-29 14:04:00   \n...                   ...                  ...                  ...   \n3786  2022-10-28 07:03:00  2022-10-28 08:21:00  2022-10-28 08:21:00   \n3787  2022-10-31 07:58:00  2022-10-31 08:24:00  2022-10-31 08:24:00   \n3788  2022-10-31 08:04:00  2022-10-31 08:28:00  2022-10-31 08:28:00   \n3789  2022-10-31 08:27:00  2022-10-31 08:35:00  2022-10-31 08:35:00   \n3790  2022-10-31 08:29:00  2022-10-31 08:36:00  2022-10-31 08:36:00   \n\n      approved_in           district                    main_cat  \\\n0             1.2           Altstadt                 Beleuchtung   \n1             0.4           Altstadt                    Hinweise   \n2             0.6           Altstadt  Straßen, Fahrrad & Verkehr   \n3             1.6           Altstadt  Straßen, Fahrrad & Verkehr   \n4             0.1           Altstadt       Öffentliche Orte/Ufer   \n...           ...                ...                         ...   \n3786          0.1  Petershausen-West  Straßen, Fahrrad & Verkehr   \n3787          0.0  Petershausen-West               Pflanzenwuchs   \n3788          0.0  Petershausen-West  Straßen, Fahrrad & Verkehr   \n3789          0.0  Petershausen-West             Müll/Sauberkeit   \n3790          0.0  Petershausen-West             Müll/Sauberkeit   \n\n                                           sub_cat  \n0                           Straßenlaternen defekt  \n1                                         Hinweise  \n2                             Schilder unkenntlich  \n3                                     Ampel defekt  \n4             Spielplätze schadhaft / verunreinigt  \n...                                            ...  \n3786                                Straßenschäden  \n3787   Verkehrsbehindernder Heckenwuchs, Sträucher  \n3788                          Schilder unkenntlich  \n3789                                Illegaler Müll  \n3790                                Illegaler Müll  \n\n[3791 rows x 15 columns]",
      "text/html": "<div>\n<style scoped>\n    .dataframe tbody tr th:only-of-type {\n        vertical-align: middle;\n    }\n\n    .dataframe tbody tr th {\n        vertical-align: top;\n    }\n\n    .dataframe thead th {\n        text-align: right;\n    }\n</style>\n<table border=\"1\" class=\"dataframe\">\n  <thead>\n    <tr style=\"text-align: right;\">\n      <th></th>\n      <th>id</th>\n      <th>description</th>\n      <th>address</th>\n      <th>group_</th>\n      <th>lon</th>\n      <th>lat</th>\n      <th>year</th>\n      <th>month</th>\n      <th>reported</th>\n      <th>approved</th>\n      <th>checked</th>\n      <th>approved_in</th>\n      <th>district</th>\n      <th>main_cat</th>\n      <th>sub_cat</th>\n    </tr>\n  </thead>\n  <tbody>\n    <tr>\n      <th>0</th>\n      <td>3470</td>\n      <td>alle Straßenlaternen um das Schnetztor defekt....</td>\n      <td>Obere Laube 66, 78462 Konstanz, Germany</td>\n      <td>Stadtwerke Konstanz\\n</td>\n      <td>9.170475</td>\n      <td>47.658698</td>\n      <td>2020</td>\n      <td>6</td>\n      <td>2020-06-06 23:48:00</td>\n      <td>2020-06-08 05:31:00</td>\n      <td>2020-06-08 05:31:00</td>\n      <td>1.2</td>\n      <td>Altstadt</td>\n      <td>Beleuchtung</td>\n      <td>Straßenlaternen defekt</td>\n    </tr>\n    <tr>\n      <th>1</th>\n      <td>3475</td>\n      <td>Bei Nässe spiegelglatte Stelle. Ich bin am Don...</td>\n      <td>Hussenstraße 24, 78462 Konstanz, Germany</td>\n      <td>Technische Betriebe Konstanz\\n\\n</td>\n      <td>9.172454</td>\n      <td>47.659835</td>\n      <td>2020</td>\n      <td>6</td>\n      <td>2020-06-07 19:26:00</td>\n      <td>2020-06-08 05:33:00</td>\n      <td>2020-06-08 05:33:00</td>\n      <td>0.4</td>\n      <td>Altstadt</td>\n      <td>Hinweise</td>\n      <td>Hinweise</td>\n    </tr>\n    <tr>\n      <th>2</th>\n      <td>3476</td>\n      <td>Warnschild des Zebrastreifens zum x-ten mal um...</td>\n      <td>Emmishofer Str. 7, 78462 Konstanz, Germany</td>\n      <td>Technische Betriebe Konstanz\\n\\n</td>\n      <td>9.170046</td>\n      <td>47.656598</td>\n      <td>2020</td>\n      <td>6</td>\n      <td>2020-06-08 17:08:00</td>\n      <td>2020-06-09 08:25:00</td>\n      <td>2020-06-09 08:25:00</td>\n      <td>0.6</td>\n      <td>Altstadt</td>\n      <td>Straßen, Fahrrad &amp; Verkehr</td>\n      <td>Schilder unkenntlich</td>\n    </tr>\n    <tr>\n      <th>3</th>\n      <td>3495</td>\n      <td>Bei der Fussgängerampel direkt vor dem Taschen...</td>\n      <td>Rosgartenstraße 31, 78462 Konstanz, Germany</td>\n      <td>Tiefbauamt</td>\n      <td>9.174359</td>\n      <td>47.658116</td>\n      <td>2020</td>\n      <td>6</td>\n      <td>2020-06-13 18:23:00</td>\n      <td>2020-06-15 07:50:00</td>\n      <td>2020-06-15 07:50:00</td>\n      <td>1.6</td>\n      <td>Altstadt</td>\n      <td>Straßen, Fahrrad &amp; Verkehr</td>\n      <td>Ampel defekt</td>\n    </tr>\n    <tr>\n      <th>4</th>\n      <td>3583</td>\n      <td>Hallo,\\n\\nder Spielplatz an der Kreuzlingerstr...</td>\n      <td>Kreuzlinger Str. 26, 78462 Konstanz, Germany</td>\n      <td>Technische Betriebe Konstanz\\n\\n</td>\n      <td>9.171569</td>\n      <td>47.657161</td>\n      <td>2020</td>\n      <td>6</td>\n      <td>2020-06-29 11:46:00</td>\n      <td>2020-06-29 14:04:00</td>\n      <td>2020-06-29 14:04:00</td>\n      <td>0.1</td>\n      <td>Altstadt</td>\n      <td>Öffentliche Orte/Ufer</td>\n      <td>Spielplätze schadhaft / verunreinigt</td>\n    </tr>\n    <tr>\n      <th>...</th>\n      <td>...</td>\n      <td>...</td>\n      <td>...</td>\n      <td>...</td>\n      <td>...</td>\n      <td>...</td>\n      <td>...</td>\n      <td>...</td>\n      <td>...</td>\n      <td>...</td>\n      <td>...</td>\n      <td>...</td>\n      <td>...</td>\n      <td>...</td>\n      <td>...</td>\n    </tr>\n    <tr>\n      <th>3786</th>\n      <td>6746</td>\n      <td>Ecke Petershauserstrasse 30 /Marin-Venedey-Str...</td>\n      <td>Petershauser Str. 28, 78467 Konstanz, Deutschland</td>\n      <td>Technische Betriebe Konstanz\\n\\n</td>\n      <td>9.177783</td>\n      <td>47.670776</td>\n      <td>2022</td>\n      <td>10</td>\n      <td>2022-10-28 07:03:00</td>\n      <td>2022-10-28 08:21:00</td>\n      <td>2022-10-28 08:21:00</td>\n      <td>0.1</td>\n      <td>Petershausen-West</td>\n      <td>Straßen, Fahrrad &amp; Verkehr</td>\n      <td>Straßenschäden</td>\n    </tr>\n    <tr>\n      <th>3787</th>\n      <td>6753</td>\n      <td>Der Gehweg bist zur hälfte mit Pflanzenwuchs b...</td>\n      <td>Petershauser Str. 38, 78467 Konstanz, Germany</td>\n      <td>Bürgeramt/Straßenverkehrswesen\\n\\n\\n</td>\n      <td>9.178919</td>\n      <td>47.671660</td>\n      <td>2022</td>\n      <td>10</td>\n      <td>2022-10-31 07:58:00</td>\n      <td>2022-10-31 08:24:00</td>\n      <td>2022-10-31 08:24:00</td>\n      <td>0.0</td>\n      <td>Petershausen-West</td>\n      <td>Pflanzenwuchs</td>\n      <td>Verkehrsbehindernder Heckenwuchs, Sträucher</td>\n    </tr>\n    <tr>\n      <th>3788</th>\n      <td>6755</td>\n      <td>vor dem Haus Ebertplatz 5 stehen vergessene, t...</td>\n      <td>Sankt-Gebhard-Straße 1, 78467 Konstanz, Germany</td>\n      <td>Technische Betriebe Konstanz\\n\\n</td>\n      <td>9.176019</td>\n      <td>47.670331</td>\n      <td>2022</td>\n      <td>10</td>\n      <td>2022-10-31 08:04:00</td>\n      <td>2022-10-31 08:28:00</td>\n      <td>2022-10-31 08:28:00</td>\n      <td>0.0</td>\n      <td>Petershausen-West</td>\n      <td>Straßen, Fahrrad &amp; Verkehr</td>\n      <td>Schilder unkenntlich</td>\n    </tr>\n    <tr>\n      <th>3789</th>\n      <td>6759</td>\n      <td>Auf dem Gehweg in der Max-Stromeyer-Straße lie...</td>\n      <td>Max-Stromeyer-Straße 120, 78467 Konstanz, Germany</td>\n      <td>Bürgeramt/Straßenverkehrswesen\\n\\n\\n</td>\n      <td>9.165003</td>\n      <td>47.674701</td>\n      <td>2022</td>\n      <td>10</td>\n      <td>2022-10-31 08:27:00</td>\n      <td>2022-10-31 08:35:00</td>\n      <td>2022-10-31 08:35:00</td>\n      <td>0.0</td>\n      <td>Petershausen-West</td>\n      <td>Müll/Sauberkeit</td>\n      <td>Illegaler Müll</td>\n    </tr>\n    <tr>\n      <th>3790</th>\n      <td>6760</td>\n      <td>In der Max-Stromeyer-Straße steht ein Pfosten ...</td>\n      <td>Max-Stromeyer-Straße 4, 78467 Konstanz, Germany</td>\n      <td>Bürgeramt/Straßenverkehrswesen\\n\\n\\n</td>\n      <td>9.169710</td>\n      <td>47.673324</td>\n      <td>2022</td>\n      <td>10</td>\n      <td>2022-10-31 08:29:00</td>\n      <td>2022-10-31 08:36:00</td>\n      <td>2022-10-31 08:36:00</td>\n      <td>0.0</td>\n      <td>Petershausen-West</td>\n      <td>Müll/Sauberkeit</td>\n      <td>Illegaler Müll</td>\n    </tr>\n  </tbody>\n</table>\n<p>3791 rows × 15 columns</p>\n</div>"
     },
     "execution_count": 157,
     "metadata": {},
     "output_type": "execute_result"
    }
   ],
   "source": [
    "df"
   ],
   "metadata": {
    "collapsed": false
   }
  },
  {
   "cell_type": "code",
   "execution_count": 158,
   "outputs": [],
   "source": [
    "df.to_csv(\"../data/final.csv\", index=False)\n",
    "df.to_excel(\"../data/final.xlsx\", index=False)"
   ],
   "metadata": {
    "collapsed": false
   }
  }
 ],
 "metadata": {
  "kernelspec": {
   "display_name": "Python 3",
   "language": "python",
   "name": "python3"
  },
  "language_info": {
   "codemirror_mode": {
    "name": "ipython",
    "version": 2
   },
   "file_extension": ".py",
   "mimetype": "text/x-python",
   "name": "python",
   "nbconvert_exporter": "python",
   "pygments_lexer": "ipython2",
   "version": "2.7.6"
  }
 },
 "nbformat": 4,
 "nbformat_minor": 0
}
